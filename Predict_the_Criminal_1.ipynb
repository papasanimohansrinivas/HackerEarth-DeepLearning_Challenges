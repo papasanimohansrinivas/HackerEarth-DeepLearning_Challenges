{
  "nbformat": 4,
  "nbformat_minor": 0,
  "metadata": {
    "colab": {
      "name": "Predict the Criminal.ipynb",
      "version": "0.3.2",
      "views": {},
      "default_view": {},
      "provenance": [],
      "collapsed_sections": []
    },
    "kernelspec": {
      "name": "python2",
      "display_name": "Python 2"
    },
    "accelerator": "GPU"
  },
  "cells": [
    {
      "metadata": {
        "id": "u2Y1UDJV9QWn",
        "colab_type": "text"
      },
      "cell_type": "markdown",
      "source": [
        "## Co-Lab gives us option for using keras with GPU "
      ]
    },
    {
      "metadata": {
        "id": "-xLdJJ_H7TPw",
        "colab_type": "code",
        "colab": {
          "autoexec": {
            "startup": false,
            "wait_interval": 0
          }
        }
      },
      "cell_type": "code",
      "source": [
        "# https://keras.io/\n",
        "!pip install -q keras\n",
        "import keras"
      ],
      "execution_count": 0,
      "outputs": []
    },
    {
      "metadata": {
        "id": "5qe92udt9BLB",
        "colab_type": "text"
      },
      "cell_type": "markdown",
      "source": [
        "## Underlying os is Ubuntu \n",
        "\n",
        "### we can know by cat /etc/issue command"
      ]
    },
    {
      "metadata": {
        "id": "OCwv5HgA8g-F",
        "colab_type": "code",
        "colab": {
          "autoexec": {
            "startup": false,
            "wait_interval": 0
          },
          "output_extras": [
            {
              "item_id": 1
            }
          ],
          "base_uri": "https://localhost:8080/",
          "height": 51
        },
        "outputId": "b370f90e-ec0e-4586-c5da-2fb9dc06f49b",
        "executionInfo": {
          "status": "ok",
          "timestamp": 1519873423230,
          "user_tz": -330,
          "elapsed": 925,
          "user": {
            "displayName": "Papasani Mohansrinivas",
            "photoUrl": "https://lh3.googleusercontent.com/a/default-user=s128",
            "userId": "115424324096599609575"
          }
        }
      },
      "cell_type": "code",
      "source": [
        "!cat /etc/issue"
      ],
      "execution_count": 232,
      "outputs": [
        {
          "output_type": "stream",
          "text": [
            "Ubuntu 17.10 \\n \\l\r\n",
            "\r\n"
          ],
          "name": "stdout"
        }
      ]
    },
    {
      "metadata": {
        "id": "CqeNrU3VTi39",
        "colab_type": "code",
        "colab": {
          "autoexec": {
            "startup": false,
            "wait_interval": 0
          },
          "output_extras": [
            {
              "item_id": 1
            }
          ],
          "base_uri": "https://localhost:8080/",
          "height": 84
        },
        "outputId": "17670c3b-a6ac-4fd7-eea7-0deb50b4974c",
        "executionInfo": {
          "status": "ok",
          "timestamp": 1519873424694,
          "user_tz": -330,
          "elapsed": 982,
          "user": {
            "displayName": "Papasani Mohansrinivas",
            "photoUrl": "https://lh3.googleusercontent.com/a/default-user=s128",
            "userId": "115424324096599609575"
          }
        }
      },
      "cell_type": "code",
      "source": [
        "!ls"
      ],
      "execution_count": 233,
      "outputs": [
        {
          "output_type": "stream",
          "text": [
            "criminal_test.csv   precious.yaml\t   submission_4.csv  submission.csv\r\n",
            "criminal_train.csv  sample_submission.csv  submission_6.csv  why.csv\r\n",
            "model.h5\t    submission\t\t   submission_7.csv\r\n",
            "precious-kit.h5     submission_3.csv\t   submission_8.csv\r\n"
          ],
          "name": "stdout"
        }
      ]
    },
    {
      "metadata": {
        "id": "n5wihZqd-MUc",
        "colab_type": "text"
      },
      "cell_type": "markdown",
      "source": [
        "## currently clonig the full repository is working downloading the files "
      ]
    },
    {
      "metadata": {
        "id": "Gy9hOwtJCAX-",
        "colab_type": "code",
        "colab": {
          "autoexec": {
            "startup": false,
            "wait_interval": 0
          },
          "output_extras": [
            {
              "item_id": 10
            }
          ],
          "base_uri": "https://localhost:8080/",
          "height": 101
        },
        "outputId": "2b80a974-28f8-46cf-b28a-bc271d971020",
        "executionInfo": {
          "status": "ok",
          "timestamp": 1519869916044,
          "user_tz": -330,
          "elapsed": 6706,
          "user": {
            "displayName": "Papasani Mohansrinivas",
            "photoUrl": "https://lh3.googleusercontent.com/a/default-user=s128",
            "userId": "115424324096599609575"
          }
        }
      },
      "cell_type": "code",
      "source": [
        "!git clone https://github.com/papasanimohansrinivas/Data-Sets.git"
      ],
      "execution_count": 6,
      "outputs": [
        {
          "output_type": "stream",
          "text": [
            "Cloning into 'Data-Sets'...\n",
            "remote: Counting objects: 15, done.\u001b[K\n",
            "remote: Compressing objects: 100% (13/13), done.\u001b[K\n",
            "remote: Total 15 (delta 3), reused 0 (delta 0), pack-reused 0\u001b[K\n",
            "Unpacking objects: 100% (15/15), done.\n"
          ],
          "name": "stdout"
        }
      ]
    },
    {
      "metadata": {
        "id": "4LYSEpdeCKUG",
        "colab_type": "code",
        "colab": {
          "autoexec": {
            "startup": false,
            "wait_interval": 0
          },
          "output_extras": [
            {
              "item_id": 1
            }
          ],
          "base_uri": "https://localhost:8080/",
          "height": 34
        },
        "outputId": "dd69fc9b-fec5-4cf4-c0cf-0ee85fff7e9e",
        "executionInfo": {
          "status": "ok",
          "timestamp": 1519869917843,
          "user_tz": -330,
          "elapsed": 1210,
          "user": {
            "displayName": "Papasani Mohansrinivas",
            "photoUrl": "https://lh3.googleusercontent.com/a/default-user=s128",
            "userId": "115424324096599609575"
          }
        }
      },
      "cell_type": "code",
      "source": [
        "!ls"
      ],
      "execution_count": 7,
      "outputs": [
        {
          "output_type": "stream",
          "text": [
            "datalab  Data-Sets\r\n"
          ],
          "name": "stdout"
        }
      ]
    },
    {
      "metadata": {
        "id": "Oianc3bYCMQI",
        "colab_type": "code",
        "colab": {
          "autoexec": {
            "startup": false,
            "wait_interval": 0
          },
          "output_extras": [
            {
              "item_id": 1
            }
          ],
          "base_uri": "https://localhost:8080/",
          "height": 34
        },
        "outputId": "f89ecff7-7e6b-4c7c-b6fb-7d0e0fef1d4a",
        "executionInfo": {
          "status": "ok",
          "timestamp": 1519869921350,
          "user_tz": -330,
          "elapsed": 1014,
          "user": {
            "displayName": "Papasani Mohansrinivas",
            "photoUrl": "https://lh3.googleusercontent.com/a/default-user=s128",
            "userId": "115424324096599609575"
          }
        }
      },
      "cell_type": "code",
      "source": [
        "cd Data-Sets"
      ],
      "execution_count": 8,
      "outputs": [
        {
          "output_type": "stream",
          "text": [
            "/content/Data-Sets\n"
          ],
          "name": "stdout"
        }
      ]
    },
    {
      "metadata": {
        "id": "tgJ65cbLCOr2",
        "colab_type": "code",
        "colab": {
          "autoexec": {
            "startup": false,
            "wait_interval": 0
          },
          "output_extras": [
            {
              "item_id": 1
            }
          ],
          "base_uri": "https://localhost:8080/",
          "height": 51
        },
        "outputId": "254909b9-ab2c-4eb6-e190-cffc61620f5d",
        "executionInfo": {
          "status": "ok",
          "timestamp": 1519869923441,
          "user_tz": -330,
          "elapsed": 904,
          "user": {
            "displayName": "Papasani Mohansrinivas",
            "photoUrl": "https://lh3.googleusercontent.com/a/default-user=s128",
            "userId": "115424324096599609575"
          }
        }
      },
      "cell_type": "code",
      "source": [
        "!ls"
      ],
      "execution_count": 9,
      "outputs": [
        {
          "output_type": "stream",
          "text": [
            "d17428d0-e-Criminal.rar  f2c2f440-8-dataset_he.zip  transformed_files.zip\r\n",
            "d17428d0-e-Criminal.zip  README.md\r\n"
          ],
          "name": "stdout"
        }
      ]
    },
    {
      "metadata": {
        "id": "wPFR38E9CPfa",
        "colab_type": "code",
        "colab": {
          "autoexec": {
            "startup": false,
            "wait_interval": 0
          },
          "output_extras": [
            {
              "item_id": 1
            }
          ],
          "base_uri": "https://localhost:8080/",
          "height": 101
        },
        "outputId": "4c1cff3d-2906-4fa3-fc53-858cdb7cb2c6",
        "executionInfo": {
          "status": "ok",
          "timestamp": 1519869930423,
          "user_tz": -330,
          "elapsed": 1626,
          "user": {
            "displayName": "Papasani Mohansrinivas",
            "photoUrl": "https://lh3.googleusercontent.com/a/default-user=s128",
            "userId": "115424324096599609575"
          }
        }
      },
      "cell_type": "code",
      "source": [
        "!unzip d17428d0-e-Criminal.zip "
      ],
      "execution_count": 10,
      "outputs": [
        {
          "output_type": "stream",
          "text": [
            "Archive:  d17428d0-e-Criminal.zip\r\n",
            "   creating: d17428d0-e-Criminal/\r\n",
            "  inflating: d17428d0-e-Criminal/criminal_test.csv  \n",
            "  inflating: d17428d0-e-Criminal/criminal_train.csv  \n",
            "  inflating: d17428d0-e-Criminal/sample_submission.csv  \n"
          ],
          "name": "stdout"
        }
      ]
    },
    {
      "metadata": {
        "id": "cDNm97ojCTpT",
        "colab_type": "code",
        "colab": {
          "autoexec": {
            "startup": false,
            "wait_interval": 0
          },
          "output_extras": [
            {
              "item_id": 1
            }
          ],
          "base_uri": "https://localhost:8080/",
          "height": 34
        },
        "outputId": "1531ab01-1221-4e0d-c66b-4c608dd61b13",
        "executionInfo": {
          "status": "ok",
          "timestamp": 1519869931922,
          "user_tz": -330,
          "elapsed": 871,
          "user": {
            "displayName": "Papasani Mohansrinivas",
            "photoUrl": "https://lh3.googleusercontent.com/a/default-user=s128",
            "userId": "115424324096599609575"
          }
        }
      },
      "cell_type": "code",
      "source": [
        "cd d17428d0-e-Criminal\t"
      ],
      "execution_count": 11,
      "outputs": [
        {
          "output_type": "stream",
          "text": [
            "/content/Data-Sets/d17428d0-e-Criminal\n"
          ],
          "name": "stdout"
        }
      ]
    },
    {
      "metadata": {
        "id": "8zkUglTOCXv7",
        "colab_type": "code",
        "colab": {
          "autoexec": {
            "startup": false,
            "wait_interval": 0
          }
        }
      },
      "cell_type": "code",
      "source": [
        "import pandas"
      ],
      "execution_count": 0,
      "outputs": []
    },
    {
      "metadata": {
        "id": "FKeVBTl_Ca4C",
        "colab_type": "code",
        "colab": {
          "autoexec": {
            "startup": false,
            "wait_interval": 0
          }
        }
      },
      "cell_type": "code",
      "source": [
        "from pandas import DataFrame"
      ],
      "execution_count": 0,
      "outputs": []
    },
    {
      "metadata": {
        "id": "E1IqK1rrC2W7",
        "colab_type": "code",
        "colab": {
          "autoexec": {
            "startup": false,
            "wait_interval": 0
          },
          "output_extras": [
            {
              "item_id": 1
            }
          ],
          "base_uri": "https://localhost:8080/",
          "height": 71
        },
        "outputId": "4597a6b3-3951-40c2-b9e9-9cc8040ecdb5",
        "executionInfo": {
          "status": "ok",
          "timestamp": 1519873487883,
          "user_tz": -330,
          "elapsed": 902,
          "user": {
            "displayName": "Papasani Mohansrinivas",
            "photoUrl": "https://lh3.googleusercontent.com/a/default-user=s128",
            "userId": "115424324096599609575"
          }
        }
      },
      "cell_type": "code",
      "source": [
        "df=DataFrame.from_csv('./criminal_train.csv')"
      ],
      "execution_count": 239,
      "outputs": [
        {
          "output_type": "stream",
          "text": [
            "/usr/local/lib/python2.7/dist-packages/ipykernel_launcher.py:1: FutureWarning: from_csv is deprecated. Please use read_csv(...) instead. Note that some of the default arguments are different, so please refer to the documentation for from_csv when changing your function calls\n",
            "  \"\"\"Entry point for launching an IPython kernel.\n"
          ],
          "name": "stderr"
        }
      ]
    },
    {
      "metadata": {
        "id": "0EltiVO5DZV6",
        "colab_type": "code",
        "colab": {
          "autoexec": {
            "startup": false,
            "wait_interval": 0
          },
          "output_extras": [
            {
              "item_id": 1
            }
          ],
          "base_uri": "https://localhost:8080/",
          "height": 269
        },
        "outputId": "dde949f6-27cd-4cb6-e36b-3b24907b8dfd",
        "executionInfo": {
          "status": "ok",
          "timestamp": 1519873489887,
          "user_tz": -330,
          "elapsed": 1472,
          "user": {
            "displayName": "Papasani Mohansrinivas",
            "photoUrl": "https://lh3.googleusercontent.com/a/default-user=s128",
            "userId": "115424324096599609575"
          }
        }
      },
      "cell_type": "code",
      "source": [
        "df.columns"
      ],
      "execution_count": 240,
      "outputs": [
        {
          "output_type": "execute_result",
          "data": {
            "text/plain": [
              "Index([u'IFATHER', u'NRCH17_2', u'IRHHSIZ2', u'IIHHSIZ2', u'IRKI17_2',\n",
              "       u'IIKI17_2', u'IRHH65_2', u'IIHH65_2', u'PRXRETRY', u'PRXYDATA',\n",
              "       u'MEDICARE', u'CAIDCHIP', u'CHAMPUS', u'PRVHLTIN', u'GRPHLTIN',\n",
              "       u'HLTINNOS', u'HLCNOTYR', u'HLCNOTMO', u'HLCLAST', u'HLLOSRSN',\n",
              "       u'HLNVCOST', u'HLNVOFFR', u'HLNVREF', u'HLNVNEED', u'HLNVSOR',\n",
              "       u'IRMCDCHP', u'IIMCDCHP', u'IRMEDICR', u'IIMEDICR', u'IRCHMPUS',\n",
              "       u'IICHMPUS', u'IRPRVHLT', u'IIPRVHLT', u'IROTHHLT', u'IIOTHHLT',\n",
              "       u'HLCALLFG', u'HLCALL99', u'ANYHLTI2', u'IRINSUR4', u'IIINSUR4',\n",
              "       u'OTHINS', u'CELLNOTCL', u'CELLWRKNG', u'IRFAMSOC', u'IIFAMSOC',\n",
              "       u'IRFAMSSI', u'IIFAMSSI', u'IRFSTAMP', u'IIFSTAMP', u'IRFAMPMT',\n",
              "       u'IIFAMPMT', u'IRFAMSVC', u'IIFAMSVC', u'IRWELMOS', u'IIWELMOS',\n",
              "       u'IRPINC3', u'IRFAMIN3', u'IIPINC3', u'IIFAMIN3', u'GOVTPROG',\n",
              "       u'POVERTY3', u'TOOLONG', u'TROUBUND', u'PDEN10', u'COUTYP2',\n",
              "       u'MAIIN102', u'AIIND102', u'ANALWT_C', u'VESTR', u'VEREP', u'Criminal'],\n",
              "      dtype='object')"
            ]
          },
          "metadata": {
            "tags": []
          },
          "execution_count": 240
        }
      ]
    },
    {
      "metadata": {
        "id": "V9_2s2nygPau",
        "colab_type": "code",
        "colab": {
          "autoexec": {
            "startup": false,
            "wait_interval": 0
          }
        }
      },
      "cell_type": "code",
      "source": [
        "from sklearn import preprocessing\n",
        "\n",
        "targets = df['Criminal']\n",
        "\n",
        "df=df.drop('Criminal',axis=1)\n",
        "\n",
        "\n",
        "\n",
        "x = df.values #returns a numpy array\n",
        "min_max_scaler = preprocessing.MinMaxScaler()\n",
        "x_scaled = min_max_scaler.fit_transform(x)\n",
        "df = pandas.DataFrame(x_scaled)"
      ],
      "execution_count": 0,
      "outputs": []
    },
    {
      "metadata": {
        "id": "sZfDwYVrDm7q",
        "colab_type": "code",
        "colab": {
          "autoexec": {
            "startup": false,
            "wait_interval": 0
          },
          "output_extras": [
            {
              "item_id": 1
            }
          ],
          "base_uri": "https://localhost:8080/",
          "height": 34
        },
        "outputId": "1975ab2f-54ad-4e45-a803-394ceba3dfbe",
        "executionInfo": {
          "status": "ok",
          "timestamp": 1519873503546,
          "user_tz": -330,
          "elapsed": 1000,
          "user": {
            "displayName": "Papasani Mohansrinivas",
            "photoUrl": "https://lh3.googleusercontent.com/a/default-user=s128",
            "userId": "115424324096599609575"
          }
        }
      },
      "cell_type": "code",
      "source": [
        "df.shape[1:]\n"
      ],
      "execution_count": 243,
      "outputs": [
        {
          "output_type": "execute_result",
          "data": {
            "text/plain": [
              "(70,)"
            ]
          },
          "metadata": {
            "tags": []
          },
          "execution_count": 243
        }
      ]
    },
    {
      "metadata": {
        "id": "JXYPAwHdDwVx",
        "colab_type": "code",
        "colab": {
          "autoexec": {
            "startup": false,
            "wait_interval": 0
          }
        }
      },
      "cell_type": "code",
      "source": [
        "from keras.models import Sequential\n",
        "\n",
        "from keras.layers import Dense, Activation\n"
      ],
      "execution_count": 0,
      "outputs": []
    },
    {
      "metadata": {
        "id": "QXMERb5TEcba",
        "colab_type": "code",
        "colab": {
          "autoexec": {
            "startup": false,
            "wait_interval": 0
          }
        }
      },
      "cell_type": "code",
      "source": [
        "model = Sequential()"
      ],
      "execution_count": 0,
      "outputs": []
    },
    {
      "metadata": {
        "id": "JhbVAKnfEfSO",
        "colab_type": "code",
        "colab": {
          "autoexec": {
            "startup": false,
            "wait_interval": 0
          }
        }
      },
      "cell_type": "code",
      "source": [
        "model.add(Dense(100, input_dim=df.shape[1:][0],activation='relu'))\n",
        "\n",
        "model.add(Dense(50,activation='tanh'))\n",
        "\n",
        "model.add(Dense(20,activation='sigmoid'))\n",
        "\n",
        "model.add(Dense(10,activation='softmax'))\n",
        "\n",
        "model.add(Dense(5,activation='relu'))\n",
        "\n",
        "\n",
        "model.add(Dense(2,activation='sigmoid'))\n",
        "\n",
        "model.add(Dense(1,activation='sigmoid'))\n",
        "\n"
      ],
      "execution_count": 0,
      "outputs": []
    },
    {
      "metadata": {
        "id": "Ax9y4xmuQMfl",
        "colab_type": "code",
        "colab": {
          "autoexec": {
            "startup": false,
            "wait_interval": 0
          }
        }
      },
      "cell_type": "code",
      "source": [
        "model.compile(optimizer='adam',\n",
        "              loss='binary_crossentropy',\n",
        "              metrics=['accuracy'])"
      ],
      "execution_count": 0,
      "outputs": []
    },
    {
      "metadata": {
        "id": "yQqs7JG9Qagt",
        "colab_type": "code",
        "colab": {
          "autoexec": {
            "startup": false,
            "wait_interval": 0
          },
          "output_extras": [
            {
              "item_id": 52
            },
            {
              "item_id": 110
            },
            {
              "item_id": 178
            },
            {
              "item_id": 230
            },
            {
              "item_id": 231
            }
          ],
          "base_uri": "https://localhost:8080/",
          "height": 390
        },
        "outputId": "de8d2771-6ac3-472c-c9cb-2be84a793109",
        "executionInfo": {
          "status": "ok",
          "timestamp": 1519874095381,
          "user_tz": -330,
          "elapsed": 103999,
          "user": {
            "displayName": "Papasani Mohansrinivas",
            "photoUrl": "https://lh3.googleusercontent.com/a/default-user=s128",
            "userId": "115424324096599609575"
          }
        }
      },
      "cell_type": "code",
      "source": [
        "model.fit(df,targets,epochs=10, batch_size=32)"
      ],
      "execution_count": 306,
      "outputs": [
        {
          "output_type": "stream",
          "text": [
            "Epoch 1/10\n",
            "45718/45718 [==============================] - 11s 231us/step - loss: 0.2670 - acc: 0.9306\n",
            "Epoch 2/10\n",
            "45718/45718 [==============================] - 10s 219us/step - loss: 0.2523 - acc: 0.9306\n",
            "Epoch 3/10\n",
            "37408/45718 [=======================>......] - ETA: 1s - loss: 0.2413 - acc: 0.9301"
          ],
          "name": "stdout"
        },
        {
          "output_type": "stream",
          "text": [
            "45718/45718 [==============================] - 10s 220us/step - loss: 0.2286 - acc: 0.9306\n",
            "Epoch 4/10\n",
            "45718/45718 [==============================] - 10s 222us/step - loss: 0.1550 - acc: 0.9306\n",
            "Epoch 5/10\n",
            "45718/45718 [==============================] - 10s 225us/step - loss: 0.1440 - acc: 0.9306\n",
            "Epoch 6/10\n",
            " 3456/45718 [=>............................] - ETA: 9s - loss: 0.1286 - acc: 0.9424"
          ],
          "name": "stdout"
        },
        {
          "output_type": "stream",
          "text": [
            "45718/45718 [==============================] - 10s 225us/step - loss: 0.1373 - acc: 0.9306\n",
            "Epoch 7/10\n",
            "45718/45718 [==============================] - 10s 225us/step - loss: 0.1299 - acc: 0.9306\n",
            "Epoch 8/10\n",
            "41152/45718 [==========================>...] - ETA: 1s - loss: 0.1226 - acc: 0.9406"
          ],
          "name": "stdout"
        },
        {
          "output_type": "stream",
          "text": [
            "45718/45718 [==============================] - 10s 223us/step - loss: 0.1238 - acc: 0.9405\n",
            "Epoch 9/10\n",
            "45718/45718 [==============================] - 10s 224us/step - loss: 0.1199 - acc: 0.9466\n",
            "Epoch 10/10\n",
            "45718/45718 [==============================] - 10s 224us/step - loss: 0.1181 - acc: 0.9471\n"
          ],
          "name": "stdout"
        },
        {
          "output_type": "execute_result",
          "data": {
            "text/plain": [
              "<keras.callbacks.History at 0x7fcfe3574f10>"
            ]
          },
          "metadata": {
            "tags": []
          },
          "execution_count": 306
        }
      ]
    },
    {
      "metadata": {
        "id": "yMXFCmydRZDn",
        "colab_type": "code",
        "colab": {
          "autoexec": {
            "startup": false,
            "wait_interval": 0
          },
          "output_extras": [
            {
              "item_id": 1
            }
          ],
          "base_uri": "https://localhost:8080/",
          "height": 71
        },
        "outputId": "45d3c981-cd30-4ce7-fb97-ab39a27e31b7",
        "executionInfo": {
          "status": "ok",
          "timestamp": 1519874097464,
          "user_tz": -330,
          "elapsed": 1301,
          "user": {
            "displayName": "Papasani Mohansrinivas",
            "photoUrl": "https://lh3.googleusercontent.com/a/default-user=s128",
            "userId": "115424324096599609575"
          }
        }
      },
      "cell_type": "code",
      "source": [
        "test=DataFrame.from_csv('./criminal_test.csv')"
      ],
      "execution_count": 307,
      "outputs": [
        {
          "output_type": "stream",
          "text": [
            "/usr/local/lib/python2.7/dist-packages/ipykernel_launcher.py:1: FutureWarning: from_csv is deprecated. Please use read_csv(...) instead. Note that some of the default arguments are different, so please refer to the documentation for from_csv when changing your function calls\n",
            "  \"\"\"Entry point for launching an IPython kernel.\n"
          ],
          "name": "stderr"
        }
      ]
    },
    {
      "metadata": {
        "id": "YRLrgWheRpQr",
        "colab_type": "code",
        "colab": {
          "autoexec": {
            "startup": false,
            "wait_interval": 0
          },
          "output_extras": [
            {
              "item_id": 1
            }
          ],
          "base_uri": "https://localhost:8080/",
          "height": 274
        },
        "outputId": "c5da315d-1fbd-40b0-a86d-a8ecc9371183",
        "executionInfo": {
          "status": "ok",
          "timestamp": 1519874099018,
          "user_tz": -330,
          "elapsed": 991,
          "user": {
            "displayName": "Papasani Mohansrinivas",
            "photoUrl": "https://lh3.googleusercontent.com/a/default-user=s128",
            "userId": "115424324096599609575"
          }
        }
      },
      "cell_type": "code",
      "source": [
        "test.head()"
      ],
      "execution_count": 308,
      "outputs": [
        {
          "output_type": "execute_result",
          "data": {
            "text/html": [
              "<div>\n",
              "<style scoped>\n",
              "    .dataframe tbody tr th:only-of-type {\n",
              "        vertical-align: middle;\n",
              "    }\n",
              "\n",
              "    .dataframe tbody tr th {\n",
              "        vertical-align: top;\n",
              "    }\n",
              "\n",
              "    .dataframe thead th {\n",
              "        text-align: right;\n",
              "    }\n",
              "</style>\n",
              "<table border=\"1\" class=\"dataframe\">\n",
              "  <thead>\n",
              "    <tr style=\"text-align: right;\">\n",
              "      <th></th>\n",
              "      <th>IFATHER</th>\n",
              "      <th>NRCH17_2</th>\n",
              "      <th>IRHHSIZ2</th>\n",
              "      <th>IIHHSIZ2</th>\n",
              "      <th>IRKI17_2</th>\n",
              "      <th>IIKI17_2</th>\n",
              "      <th>IRHH65_2</th>\n",
              "      <th>IIHH65_2</th>\n",
              "      <th>PRXRETRY</th>\n",
              "      <th>PRXYDATA</th>\n",
              "      <th>...</th>\n",
              "      <th>POVERTY3</th>\n",
              "      <th>TOOLONG</th>\n",
              "      <th>TROUBUND</th>\n",
              "      <th>PDEN10</th>\n",
              "      <th>COUTYP2</th>\n",
              "      <th>MAIIN102</th>\n",
              "      <th>AIIND102</th>\n",
              "      <th>ANALWT_C</th>\n",
              "      <th>VESTR</th>\n",
              "      <th>VEREP</th>\n",
              "    </tr>\n",
              "    <tr>\n",
              "      <th>PERID</th>\n",
              "      <th></th>\n",
              "      <th></th>\n",
              "      <th></th>\n",
              "      <th></th>\n",
              "      <th></th>\n",
              "      <th></th>\n",
              "      <th></th>\n",
              "      <th></th>\n",
              "      <th></th>\n",
              "      <th></th>\n",
              "      <th></th>\n",
              "      <th></th>\n",
              "      <th></th>\n",
              "      <th></th>\n",
              "      <th></th>\n",
              "      <th></th>\n",
              "      <th></th>\n",
              "      <th></th>\n",
              "      <th></th>\n",
              "      <th></th>\n",
              "      <th></th>\n",
              "    </tr>\n",
              "  </thead>\n",
              "  <tbody>\n",
              "    <tr>\n",
              "      <th>66583679</th>\n",
              "      <td>4</td>\n",
              "      <td>0</td>\n",
              "      <td>4</td>\n",
              "      <td>1</td>\n",
              "      <td>2</td>\n",
              "      <td>1</td>\n",
              "      <td>1</td>\n",
              "      <td>1</td>\n",
              "      <td>99</td>\n",
              "      <td>99</td>\n",
              "      <td>...</td>\n",
              "      <td>2</td>\n",
              "      <td>2</td>\n",
              "      <td>2</td>\n",
              "      <td>1</td>\n",
              "      <td>1</td>\n",
              "      <td>2</td>\n",
              "      <td>2</td>\n",
              "      <td>16346.795400</td>\n",
              "      <td>40020</td>\n",
              "      <td>1</td>\n",
              "    </tr>\n",
              "    <tr>\n",
              "      <th>35494679</th>\n",
              "      <td>4</td>\n",
              "      <td>0</td>\n",
              "      <td>4</td>\n",
              "      <td>1</td>\n",
              "      <td>1</td>\n",
              "      <td>1</td>\n",
              "      <td>1</td>\n",
              "      <td>1</td>\n",
              "      <td>99</td>\n",
              "      <td>99</td>\n",
              "      <td>...</td>\n",
              "      <td>3</td>\n",
              "      <td>2</td>\n",
              "      <td>2</td>\n",
              "      <td>1</td>\n",
              "      <td>1</td>\n",
              "      <td>2</td>\n",
              "      <td>2</td>\n",
              "      <td>3008.863906</td>\n",
              "      <td>40044</td>\n",
              "      <td>2</td>\n",
              "    </tr>\n",
              "    <tr>\n",
              "      <th>79424679</th>\n",
              "      <td>2</td>\n",
              "      <td>0</td>\n",
              "      <td>3</td>\n",
              "      <td>1</td>\n",
              "      <td>2</td>\n",
              "      <td>1</td>\n",
              "      <td>1</td>\n",
              "      <td>1</td>\n",
              "      <td>99</td>\n",
              "      <td>1</td>\n",
              "      <td>...</td>\n",
              "      <td>1</td>\n",
              "      <td>2</td>\n",
              "      <td>2</td>\n",
              "      <td>2</td>\n",
              "      <td>2</td>\n",
              "      <td>2</td>\n",
              "      <td>2</td>\n",
              "      <td>266.952503</td>\n",
              "      <td>40040</td>\n",
              "      <td>2</td>\n",
              "    </tr>\n",
              "    <tr>\n",
              "      <th>11744679</th>\n",
              "      <td>4</td>\n",
              "      <td>0</td>\n",
              "      <td>6</td>\n",
              "      <td>1</td>\n",
              "      <td>2</td>\n",
              "      <td>1</td>\n",
              "      <td>1</td>\n",
              "      <td>1</td>\n",
              "      <td>99</td>\n",
              "      <td>99</td>\n",
              "      <td>...</td>\n",
              "      <td>3</td>\n",
              "      <td>2</td>\n",
              "      <td>2</td>\n",
              "      <td>1</td>\n",
              "      <td>1</td>\n",
              "      <td>2</td>\n",
              "      <td>2</td>\n",
              "      <td>5386.928199</td>\n",
              "      <td>40017</td>\n",
              "      <td>1</td>\n",
              "    </tr>\n",
              "    <tr>\n",
              "      <th>31554679</th>\n",
              "      <td>1</td>\n",
              "      <td>0</td>\n",
              "      <td>4</td>\n",
              "      <td>1</td>\n",
              "      <td>3</td>\n",
              "      <td>1</td>\n",
              "      <td>1</td>\n",
              "      <td>1</td>\n",
              "      <td>99</td>\n",
              "      <td>1</td>\n",
              "      <td>...</td>\n",
              "      <td>3</td>\n",
              "      <td>2</td>\n",
              "      <td>1</td>\n",
              "      <td>1</td>\n",
              "      <td>1</td>\n",
              "      <td>2</td>\n",
              "      <td>2</td>\n",
              "      <td>173.489895</td>\n",
              "      <td>40017</td>\n",
              "      <td>1</td>\n",
              "    </tr>\n",
              "  </tbody>\n",
              "</table>\n",
              "<p>5 rows × 70 columns</p>\n",
              "</div>"
            ],
            "text/plain": [
              "          IFATHER  NRCH17_2  IRHHSIZ2  IIHHSIZ2  IRKI17_2  IIKI17_2  IRHH65_2  \\\n",
              "PERID                                                                           \n",
              "66583679        4         0         4         1         2         1         1   \n",
              "35494679        4         0         4         1         1         1         1   \n",
              "79424679        2         0         3         1         2         1         1   \n",
              "11744679        4         0         6         1         2         1         1   \n",
              "31554679        1         0         4         1         3         1         1   \n",
              "\n",
              "          IIHH65_2  PRXRETRY  PRXYDATA  ...    POVERTY3  TOOLONG  TROUBUND  \\\n",
              "PERID                                   ...                                  \n",
              "66583679         1        99        99  ...           2        2         2   \n",
              "35494679         1        99        99  ...           3        2         2   \n",
              "79424679         1        99         1  ...           1        2         2   \n",
              "11744679         1        99        99  ...           3        2         2   \n",
              "31554679         1        99         1  ...           3        2         1   \n",
              "\n",
              "          PDEN10  COUTYP2  MAIIN102  AIIND102      ANALWT_C  VESTR  VEREP  \n",
              "PERID                                                                      \n",
              "66583679       1        1         2         2  16346.795400  40020      1  \n",
              "35494679       1        1         2         2   3008.863906  40044      2  \n",
              "79424679       2        2         2         2    266.952503  40040      2  \n",
              "11744679       1        1         2         2   5386.928199  40017      1  \n",
              "31554679       1        1         2         2    173.489895  40017      1  \n",
              "\n",
              "[5 rows x 70 columns]"
            ]
          },
          "metadata": {
            "tags": []
          },
          "execution_count": 308
        }
      ]
    },
    {
      "metadata": {
        "id": "dQSfHLpmh0Jv",
        "colab_type": "code",
        "colab": {
          "autoexec": {
            "startup": false,
            "wait_interval": 0
          }
        }
      },
      "cell_type": "code",
      "source": [
        "x = test.values #returns a numpy array\n",
        "min_max_scaler = preprocessing.MinMaxScaler()\n",
        "x_scaled = min_max_scaler.fit_transform(x)\n",
        "test = pandas.DataFrame(x_scaled)"
      ],
      "execution_count": 0,
      "outputs": []
    },
    {
      "metadata": {
        "id": "3kSRh7nTh7iM",
        "colab_type": "code",
        "colab": {
          "autoexec": {
            "startup": false,
            "wait_interval": 0
          },
          "output_extras": [
            {
              "item_id": 1
            }
          ],
          "base_uri": "https://localhost:8080/",
          "height": 224
        },
        "outputId": "b14c164e-f6f3-410f-a7b1-ccd83467485b",
        "executionInfo": {
          "status": "ok",
          "timestamp": 1519874101878,
          "user_tz": -330,
          "elapsed": 919,
          "user": {
            "displayName": "Papasani Mohansrinivas",
            "photoUrl": "https://lh3.googleusercontent.com/a/default-user=s128",
            "userId": "115424324096599609575"
          }
        }
      },
      "cell_type": "code",
      "source": [
        "test.head()"
      ],
      "execution_count": 310,
      "outputs": [
        {
          "output_type": "execute_result",
          "data": {
            "text/html": [
              "<div>\n",
              "<style scoped>\n",
              "    .dataframe tbody tr th:only-of-type {\n",
              "        vertical-align: middle;\n",
              "    }\n",
              "\n",
              "    .dataframe tbody tr th {\n",
              "        vertical-align: top;\n",
              "    }\n",
              "\n",
              "    .dataframe thead th {\n",
              "        text-align: right;\n",
              "    }\n",
              "</style>\n",
              "<table border=\"1\" class=\"dataframe\">\n",
              "  <thead>\n",
              "    <tr style=\"text-align: right;\">\n",
              "      <th></th>\n",
              "      <th>0</th>\n",
              "      <th>1</th>\n",
              "      <th>2</th>\n",
              "      <th>3</th>\n",
              "      <th>4</th>\n",
              "      <th>5</th>\n",
              "      <th>6</th>\n",
              "      <th>7</th>\n",
              "      <th>8</th>\n",
              "      <th>9</th>\n",
              "      <th>...</th>\n",
              "      <th>60</th>\n",
              "      <th>61</th>\n",
              "      <th>62</th>\n",
              "      <th>63</th>\n",
              "      <th>64</th>\n",
              "      <th>65</th>\n",
              "      <th>66</th>\n",
              "      <th>67</th>\n",
              "      <th>68</th>\n",
              "      <th>69</th>\n",
              "    </tr>\n",
              "  </thead>\n",
              "  <tbody>\n",
              "    <tr>\n",
              "      <th>0</th>\n",
              "      <td>1.000000</td>\n",
              "      <td>0.25</td>\n",
              "      <td>0.6</td>\n",
              "      <td>0.0</td>\n",
              "      <td>0.333333</td>\n",
              "      <td>0.0</td>\n",
              "      <td>0.0</td>\n",
              "      <td>0.0</td>\n",
              "      <td>1.0</td>\n",
              "      <td>1.0</td>\n",
              "      <td>...</td>\n",
              "      <td>0.75</td>\n",
              "      <td>0.010309</td>\n",
              "      <td>0.010309</td>\n",
              "      <td>0.0</td>\n",
              "      <td>0.0</td>\n",
              "      <td>1.0</td>\n",
              "      <td>1.0</td>\n",
              "      <td>0.204189</td>\n",
              "      <td>0.387755</td>\n",
              "      <td>0.0</td>\n",
              "    </tr>\n",
              "    <tr>\n",
              "      <th>1</th>\n",
              "      <td>1.000000</td>\n",
              "      <td>0.25</td>\n",
              "      <td>0.6</td>\n",
              "      <td>0.0</td>\n",
              "      <td>0.000000</td>\n",
              "      <td>0.0</td>\n",
              "      <td>0.0</td>\n",
              "      <td>0.0</td>\n",
              "      <td>1.0</td>\n",
              "      <td>1.0</td>\n",
              "      <td>...</td>\n",
              "      <td>1.00</td>\n",
              "      <td>0.010309</td>\n",
              "      <td>0.010309</td>\n",
              "      <td>0.0</td>\n",
              "      <td>0.0</td>\n",
              "      <td>1.0</td>\n",
              "      <td>1.0</td>\n",
              "      <td>0.037542</td>\n",
              "      <td>0.877551</td>\n",
              "      <td>1.0</td>\n",
              "    </tr>\n",
              "    <tr>\n",
              "      <th>2</th>\n",
              "      <td>0.333333</td>\n",
              "      <td>0.25</td>\n",
              "      <td>0.4</td>\n",
              "      <td>0.0</td>\n",
              "      <td>0.333333</td>\n",
              "      <td>0.0</td>\n",
              "      <td>0.0</td>\n",
              "      <td>0.0</td>\n",
              "      <td>1.0</td>\n",
              "      <td>0.0</td>\n",
              "      <td>...</td>\n",
              "      <td>0.50</td>\n",
              "      <td>0.010309</td>\n",
              "      <td>0.010309</td>\n",
              "      <td>0.5</td>\n",
              "      <td>0.5</td>\n",
              "      <td>1.0</td>\n",
              "      <td>1.0</td>\n",
              "      <td>0.003284</td>\n",
              "      <td>0.795918</td>\n",
              "      <td>1.0</td>\n",
              "    </tr>\n",
              "    <tr>\n",
              "      <th>3</th>\n",
              "      <td>1.000000</td>\n",
              "      <td>0.25</td>\n",
              "      <td>1.0</td>\n",
              "      <td>0.0</td>\n",
              "      <td>0.333333</td>\n",
              "      <td>0.0</td>\n",
              "      <td>0.0</td>\n",
              "      <td>0.0</td>\n",
              "      <td>1.0</td>\n",
              "      <td>1.0</td>\n",
              "      <td>...</td>\n",
              "      <td>1.00</td>\n",
              "      <td>0.010309</td>\n",
              "      <td>0.010309</td>\n",
              "      <td>0.0</td>\n",
              "      <td>0.0</td>\n",
              "      <td>1.0</td>\n",
              "      <td>1.0</td>\n",
              "      <td>0.067254</td>\n",
              "      <td>0.326531</td>\n",
              "      <td>0.0</td>\n",
              "    </tr>\n",
              "    <tr>\n",
              "      <th>4</th>\n",
              "      <td>0.000000</td>\n",
              "      <td>0.25</td>\n",
              "      <td>0.6</td>\n",
              "      <td>0.0</td>\n",
              "      <td>0.666667</td>\n",
              "      <td>0.0</td>\n",
              "      <td>0.0</td>\n",
              "      <td>0.0</td>\n",
              "      <td>1.0</td>\n",
              "      <td>0.0</td>\n",
              "      <td>...</td>\n",
              "      <td>1.00</td>\n",
              "      <td>0.010309</td>\n",
              "      <td>0.000000</td>\n",
              "      <td>0.0</td>\n",
              "      <td>0.0</td>\n",
              "      <td>1.0</td>\n",
              "      <td>1.0</td>\n",
              "      <td>0.002116</td>\n",
              "      <td>0.326531</td>\n",
              "      <td>0.0</td>\n",
              "    </tr>\n",
              "  </tbody>\n",
              "</table>\n",
              "<p>5 rows × 70 columns</p>\n",
              "</div>"
            ],
            "text/plain": [
              "         0     1    2    3         4    5    6    7    8    9  ...     60  \\\n",
              "0  1.000000  0.25  0.6  0.0  0.333333  0.0  0.0  0.0  1.0  1.0 ...   0.75   \n",
              "1  1.000000  0.25  0.6  0.0  0.000000  0.0  0.0  0.0  1.0  1.0 ...   1.00   \n",
              "2  0.333333  0.25  0.4  0.0  0.333333  0.0  0.0  0.0  1.0  0.0 ...   0.50   \n",
              "3  1.000000  0.25  1.0  0.0  0.333333  0.0  0.0  0.0  1.0  1.0 ...   1.00   \n",
              "4  0.000000  0.25  0.6  0.0  0.666667  0.0  0.0  0.0  1.0  0.0 ...   1.00   \n",
              "\n",
              "         61        62   63   64   65   66        67        68   69  \n",
              "0  0.010309  0.010309  0.0  0.0  1.0  1.0  0.204189  0.387755  0.0  \n",
              "1  0.010309  0.010309  0.0  0.0  1.0  1.0  0.037542  0.877551  1.0  \n",
              "2  0.010309  0.010309  0.5  0.5  1.0  1.0  0.003284  0.795918  1.0  \n",
              "3  0.010309  0.010309  0.0  0.0  1.0  1.0  0.067254  0.326531  0.0  \n",
              "4  0.010309  0.000000  0.0  0.0  1.0  1.0  0.002116  0.326531  0.0  \n",
              "\n",
              "[5 rows x 70 columns]"
            ]
          },
          "metadata": {
            "tags": []
          },
          "execution_count": 310
        }
      ]
    },
    {
      "metadata": {
        "id": "eu_3rBsSTOAg",
        "colab_type": "code",
        "colab": {
          "autoexec": {
            "startup": false,
            "wait_interval": 0
          },
          "output_extras": [
            {
              "item_id": 1
            }
          ],
          "base_uri": "https://localhost:8080/",
          "height": 34
        },
        "outputId": "1d47d96e-db61-44e0-e3a8-f35da07654cd",
        "executionInfo": {
          "status": "ok",
          "timestamp": 1519874190550,
          "user_tz": -330,
          "elapsed": 1353,
          "user": {
            "displayName": "Papasani Mohansrinivas",
            "photoUrl": "https://lh3.googleusercontent.com/a/default-user=s128",
            "userId": "115424324096599609575"
          }
        }
      },
      "cell_type": "code",
      "source": [
        "y_pred=model.predict(test)\n",
        "\n",
        "print"
      ],
      "execution_count": 332,
      "outputs": [
        {
          "output_type": "stream",
          "text": [
            "\n"
          ],
          "name": "stdout"
        }
      ]
    },
    {
      "metadata": {
        "id": "WpJsJzg5YlTL",
        "colab_type": "code",
        "colab": {
          "autoexec": {
            "startup": false,
            "wait_interval": 0
          },
          "output_extras": [
            {
              "item_id": 1
            },
            {
              "item_id": 2
            }
          ],
          "base_uri": "https://localhost:8080/",
          "height": 16851
        },
        "outputId": "a6fe507a-3b81-42ac-85a7-e16ace907342",
        "executionInfo": {
          "status": "ok",
          "timestamp": 1519874218134,
          "user_tz": -330,
          "elapsed": 1125,
          "user": {
            "displayName": "Papasani Mohansrinivas",
            "photoUrl": "https://lh3.googleusercontent.com/a/default-user=s128",
            "userId": "115424324096599609575"
          }
        }
      },
      "cell_type": "code",
      "source": [
        "print(type(y_pred))\n",
        "\n",
        "list(y_pred)"
      ],
      "execution_count": 334,
      "outputs": [
        {
          "output_type": "stream",
          "text": [
            "<type 'numpy.ndarray'>\n"
          ],
          "name": "stdout"
        },
        {
          "output_type": "execute_result",
          "data": {
            "text/plain": [
              "[array([0.21075515], dtype=float32),\n",
              " array([0.00151669], dtype=float32),\n",
              " array([0.00151756], dtype=float32),\n",
              " array([0.00151282], dtype=float32),\n",
              " array([0.00159264], dtype=float32),\n",
              " array([0.00151569], dtype=float32),\n",
              " array([0.00192613], dtype=float32),\n",
              " array([0.19287597], dtype=float32),\n",
              " array([0.00160291], dtype=float32),\n",
              " array([0.00398822], dtype=float32),\n",
              " array([0.00196926], dtype=float32),\n",
              " array([0.00151921], dtype=float32),\n",
              " array([0.00151708], dtype=float32),\n",
              " array([0.00651305], dtype=float32),\n",
              " array([0.00151715], dtype=float32),\n",
              " array([0.00151389], dtype=float32),\n",
              " array([0.00151334], dtype=float32),\n",
              " array([0.04456612], dtype=float32),\n",
              " array([0.00151156], dtype=float32),\n",
              " array([0.00155117], dtype=float32),\n",
              " array([0.00151685], dtype=float32),\n",
              " array([0.10510764], dtype=float32),\n",
              " array([0.00151152], dtype=float32),\n",
              " array([0.00153308], dtype=float32),\n",
              " array([0.5904036], dtype=float32),\n",
              " array([0.06924086], dtype=float32),\n",
              " array([0.00158648], dtype=float32),\n",
              " array([0.00183502], dtype=float32),\n",
              " array([0.00151696], dtype=float32),\n",
              " array([0.5926198], dtype=float32),\n",
              " array([0.00151658], dtype=float32),\n",
              " array([0.00415702], dtype=float32),\n",
              " array([0.00151166], dtype=float32),\n",
              " array([0.5458325], dtype=float32),\n",
              " array([0.00151385], dtype=float32),\n",
              " array([0.00151404], dtype=float32),\n",
              " array([0.00155405], dtype=float32),\n",
              " array([0.00227321], dtype=float32),\n",
              " array([0.00196026], dtype=float32),\n",
              " array([0.23435532], dtype=float32),\n",
              " array([0.00329314], dtype=float32),\n",
              " array([0.00151838], dtype=float32),\n",
              " array([0.00151979], dtype=float32),\n",
              " array([0.54095], dtype=float32),\n",
              " array([0.00158199], dtype=float32),\n",
              " array([0.00151238], dtype=float32),\n",
              " array([0.00159591], dtype=float32),\n",
              " array([0.00175469], dtype=float32),\n",
              " array([0.0015171], dtype=float32),\n",
              " array([0.00152068], dtype=float32),\n",
              " array([0.00162492], dtype=float32),\n",
              " array([0.0015218], dtype=float32),\n",
              " array([0.26871893], dtype=float32),\n",
              " array([0.5952484], dtype=float32),\n",
              " array([0.00151205], dtype=float32),\n",
              " array([0.00151254], dtype=float32),\n",
              " array([0.00151866], dtype=float32),\n",
              " array([0.00151674], dtype=float32),\n",
              " array([0.00151445], dtype=float32),\n",
              " array([0.00228217], dtype=float32),\n",
              " array([0.00151198], dtype=float32),\n",
              " array([0.001516], dtype=float32),\n",
              " array([0.56240416], dtype=float32),\n",
              " array([0.00151959], dtype=float32),\n",
              " array([0.59508896], dtype=float32),\n",
              " array([0.00151709], dtype=float32),\n",
              " array([0.5749531], dtype=float32),\n",
              " array([0.00188592], dtype=float32),\n",
              " array([0.00160694], dtype=float32),\n",
              " array([0.3433581], dtype=float32),\n",
              " array([0.00158916], dtype=float32),\n",
              " array([0.00151144], dtype=float32),\n",
              " array([0.00151242], dtype=float32),\n",
              " array([0.00151276], dtype=float32),\n",
              " array([0.00151588], dtype=float32),\n",
              " array([0.18911405], dtype=float32),\n",
              " array([0.11774661], dtype=float32),\n",
              " array([0.00159741], dtype=float32),\n",
              " array([0.0015193], dtype=float32),\n",
              " array([0.01835171], dtype=float32),\n",
              " array([0.00151257], dtype=float32),\n",
              " array([0.00151491], dtype=float32),\n",
              " array([0.06900635], dtype=float32),\n",
              " array([0.00151286], dtype=float32),\n",
              " array([0.00159588], dtype=float32),\n",
              " array([0.00151264], dtype=float32),\n",
              " array([0.0015118], dtype=float32),\n",
              " array([0.00151136], dtype=float32),\n",
              " array([0.00151532], dtype=float32),\n",
              " array([0.00151687], dtype=float32),\n",
              " array([0.00156017], dtype=float32),\n",
              " array([0.00151655], dtype=float32),\n",
              " array([0.22482114], dtype=float32),\n",
              " array([0.00151234], dtype=float32),\n",
              " array([0.06941885], dtype=float32),\n",
              " array([0.00151271], dtype=float32),\n",
              " array([0.03975156], dtype=float32),\n",
              " array([0.56002134], dtype=float32),\n",
              " array([0.00159628], dtype=float32),\n",
              " array([0.00155355], dtype=float32),\n",
              " array([0.57201385], dtype=float32),\n",
              " array([0.0015125], dtype=float32),\n",
              " array([0.00151124], dtype=float32),\n",
              " array([0.00174783], dtype=float32),\n",
              " array([0.00151965], dtype=float32),\n",
              " array([0.00153233], dtype=float32),\n",
              " array([0.00152879], dtype=float32),\n",
              " array([0.00151262], dtype=float32),\n",
              " array([0.00175965], dtype=float32),\n",
              " array([0.00151888], dtype=float32),\n",
              " array([0.00151339], dtype=float32),\n",
              " array([0.00424621], dtype=float32),\n",
              " array([0.00166179], dtype=float32),\n",
              " array([0.00160204], dtype=float32),\n",
              " array([0.54405624], dtype=float32),\n",
              " array([0.21987407], dtype=float32),\n",
              " array([0.03059723], dtype=float32),\n",
              " array([0.00164432], dtype=float32),\n",
              " array([0.00151232], dtype=float32),\n",
              " array([0.00151462], dtype=float32),\n",
              " array([0.00151614], dtype=float32),\n",
              " array([0.49479043], dtype=float32),\n",
              " array([0.10399257], dtype=float32),\n",
              " array([0.00195674], dtype=float32),\n",
              " array([0.0015153], dtype=float32),\n",
              " array([0.00151371], dtype=float32),\n",
              " array([0.00151371], dtype=float32),\n",
              " array([0.00151534], dtype=float32),\n",
              " array([0.00151389], dtype=float32),\n",
              " array([0.59210956], dtype=float32),\n",
              " array([0.14913274], dtype=float32),\n",
              " array([0.0015589], dtype=float32),\n",
              " array([0.14418726], dtype=float32),\n",
              " array([0.0015168], dtype=float32),\n",
              " array([0.00151246], dtype=float32),\n",
              " array([0.00151142], dtype=float32),\n",
              " array([0.00151208], dtype=float32),\n",
              " array([0.00155087], dtype=float32),\n",
              " array([0.00152325], dtype=float32),\n",
              " array([0.00151223], dtype=float32),\n",
              " array([0.00152271], dtype=float32),\n",
              " array([0.00151587], dtype=float32),\n",
              " array([0.00424804], dtype=float32),\n",
              " array([0.00151466], dtype=float32),\n",
              " array([0.00151286], dtype=float32),\n",
              " array([0.00151331], dtype=float32),\n",
              " array([0.18327905], dtype=float32),\n",
              " array([0.0016547], dtype=float32),\n",
              " array([0.00151387], dtype=float32),\n",
              " array([0.00151223], dtype=float32),\n",
              " array([0.46651456], dtype=float32),\n",
              " array([0.00156101], dtype=float32),\n",
              " array([0.0015158], dtype=float32),\n",
              " array([0.39364713], dtype=float32),\n",
              " array([0.00151645], dtype=float32),\n",
              " array([0.00153883], dtype=float32),\n",
              " array([0.00151815], dtype=float32),\n",
              " array([0.00158891], dtype=float32),\n",
              " array([0.00157615], dtype=float32),\n",
              " array([0.13032827], dtype=float32),\n",
              " array([0.00151476], dtype=float32),\n",
              " array([0.5912905], dtype=float32),\n",
              " array([0.00158315], dtype=float32),\n",
              " array([0.00154905], dtype=float32),\n",
              " array([0.001709], dtype=float32),\n",
              " array([0.00152623], dtype=float32),\n",
              " array([0.00153906], dtype=float32),\n",
              " array([0.5907862], dtype=float32),\n",
              " array([0.00158861], dtype=float32),\n",
              " array([0.00151392], dtype=float32),\n",
              " array([0.06171579], dtype=float32),\n",
              " array([0.5957683], dtype=float32),\n",
              " array([0.00151728], dtype=float32),\n",
              " array([0.00151275], dtype=float32),\n",
              " array([0.00236227], dtype=float32),\n",
              " array([0.03740633], dtype=float32),\n",
              " array([0.00152047], dtype=float32),\n",
              " array([0.02701685], dtype=float32),\n",
              " array([0.00239534], dtype=float32),\n",
              " array([0.00156132], dtype=float32),\n",
              " array([0.00427092], dtype=float32),\n",
              " array([0.00151329], dtype=float32),\n",
              " array([0.00162356], dtype=float32),\n",
              " array([0.00156309], dtype=float32),\n",
              " array([0.02167837], dtype=float32),\n",
              " array([0.00151855], dtype=float32),\n",
              " array([0.05744474], dtype=float32),\n",
              " array([0.08167372], dtype=float32),\n",
              " array([0.00151415], dtype=float32),\n",
              " array([0.0015135], dtype=float32),\n",
              " array([0.00151411], dtype=float32),\n",
              " array([0.00151192], dtype=float32),\n",
              " array([0.00154878], dtype=float32),\n",
              " array([0.00162286], dtype=float32),\n",
              " array([0.00160823], dtype=float32),\n",
              " array([0.0015173], dtype=float32),\n",
              " array([0.00151573], dtype=float32),\n",
              " array([0.00152136], dtype=float32),\n",
              " array([0.0016655], dtype=float32),\n",
              " array([0.00151695], dtype=float32),\n",
              " array([0.381184], dtype=float32),\n",
              " array([0.00151599], dtype=float32),\n",
              " array([0.00152123], dtype=float32),\n",
              " array([0.5947129], dtype=float32),\n",
              " array([0.00152072], dtype=float32),\n",
              " array([0.00156998], dtype=float32),\n",
              " array([0.00152437], dtype=float32),\n",
              " array([0.00168939], dtype=float32),\n",
              " array([0.00151558], dtype=float32),\n",
              " array([0.00162463], dtype=float32),\n",
              " array([0.00151144], dtype=float32),\n",
              " array([0.00151268], dtype=float32),\n",
              " array([0.00151958], dtype=float32),\n",
              " array([0.00151324], dtype=float32),\n",
              " array([0.0015129], dtype=float32),\n",
              " array([0.00151333], dtype=float32),\n",
              " array([0.5555227], dtype=float32),\n",
              " array([0.00151261], dtype=float32),\n",
              " array([0.549304], dtype=float32),\n",
              " array([0.00154833], dtype=float32),\n",
              " array([0.00152687], dtype=float32),\n",
              " array([0.00153114], dtype=float32),\n",
              " array([0.00156743], dtype=float32),\n",
              " array([0.00152304], dtype=float32),\n",
              " array([0.00151471], dtype=float32),\n",
              " array([0.02387913], dtype=float32),\n",
              " array([0.00153041], dtype=float32),\n",
              " array([0.00151949], dtype=float32),\n",
              " array([0.00151816], dtype=float32),\n",
              " array([0.00151345], dtype=float32),\n",
              " array([0.00151178], dtype=float32),\n",
              " array([0.0015242], dtype=float32),\n",
              " array([0.00151463], dtype=float32),\n",
              " array([0.00152613], dtype=float32),\n",
              " array([0.08827882], dtype=float32),\n",
              " array([0.03650047], dtype=float32),\n",
              " array([0.30771416], dtype=float32),\n",
              " array([0.00152008], dtype=float32),\n",
              " array([0.00158496], dtype=float32),\n",
              " array([0.00151508], dtype=float32),\n",
              " array([0.00159577], dtype=float32),\n",
              " array([0.00151283], dtype=float32),\n",
              " array([0.00152135], dtype=float32),\n",
              " array([0.0015812], dtype=float32),\n",
              " array([0.5903359], dtype=float32),\n",
              " array([0.58844286], dtype=float32),\n",
              " array([0.0115233], dtype=float32),\n",
              " array([0.00156294], dtype=float32),\n",
              " array([0.00151783], dtype=float32),\n",
              " array([0.00151307], dtype=float32),\n",
              " array([0.09735213], dtype=float32),\n",
              " array([0.00151335], dtype=float32),\n",
              " array([0.00153116], dtype=float32),\n",
              " array([0.00151462], dtype=float32),\n",
              " array([0.00154376], dtype=float32),\n",
              " array([0.00151622], dtype=float32),\n",
              " array([0.11809592], dtype=float32),\n",
              " array([0.00151307], dtype=float32),\n",
              " array([0.00159994], dtype=float32),\n",
              " array([0.00151798], dtype=float32),\n",
              " array([0.5945721], dtype=float32),\n",
              " array([0.00151921], dtype=float32),\n",
              " array([0.00209294], dtype=float32),\n",
              " array([0.00151967], dtype=float32),\n",
              " array([0.00160126], dtype=float32),\n",
              " array([0.00166311], dtype=float32),\n",
              " array([0.00152963], dtype=float32),\n",
              " array([0.00167762], dtype=float32),\n",
              " array([0.00151306], dtype=float32),\n",
              " array([0.00151736], dtype=float32),\n",
              " array([0.0869898], dtype=float32),\n",
              " array([0.27902195], dtype=float32),\n",
              " array([0.1707817], dtype=float32),\n",
              " array([0.00152109], dtype=float32),\n",
              " array([0.11645444], dtype=float32),\n",
              " array([0.00151374], dtype=float32),\n",
              " array([0.00151139], dtype=float32),\n",
              " array([0.00151707], dtype=float32),\n",
              " array([0.59568137], dtype=float32),\n",
              " array([0.00151134], dtype=float32),\n",
              " array([0.09257257], dtype=float32),\n",
              " array([0.00240179], dtype=float32),\n",
              " array([0.15839651], dtype=float32),\n",
              " array([0.00151335], dtype=float32),\n",
              " array([0.0554336], dtype=float32),\n",
              " array([0.00210143], dtype=float32),\n",
              " array([0.00151392], dtype=float32),\n",
              " array([0.00151644], dtype=float32),\n",
              " array([0.03523173], dtype=float32),\n",
              " array([0.588492], dtype=float32),\n",
              " array([0.00153148], dtype=float32),\n",
              " array([0.00171636], dtype=float32),\n",
              " array([0.05962181], dtype=float32),\n",
              " array([0.00151415], dtype=float32),\n",
              " array([0.00151449], dtype=float32),\n",
              " array([0.0015117], dtype=float32),\n",
              " array([0.00151704], dtype=float32),\n",
              " array([0.00152516], dtype=float32),\n",
              " array([0.00171056], dtype=float32),\n",
              " array([0.00155854], dtype=float32),\n",
              " array([0.00162165], dtype=float32),\n",
              " array([0.01895767], dtype=float32),\n",
              " array([0.00151128], dtype=float32),\n",
              " array([0.00151391], dtype=float32),\n",
              " array([0.00151606], dtype=float32),\n",
              " array([0.00152361], dtype=float32),\n",
              " array([0.001513], dtype=float32),\n",
              " array([0.00157574], dtype=float32),\n",
              " array([0.00160776], dtype=float32),\n",
              " array([0.00151871], dtype=float32),\n",
              " array([0.4281227], dtype=float32),\n",
              " array([0.00152894], dtype=float32),\n",
              " array([0.00210021], dtype=float32),\n",
              " array([0.0015573], dtype=float32),\n",
              " array([0.00151238], dtype=float32),\n",
              " array([0.0015271], dtype=float32),\n",
              " array([0.00164818], dtype=float32),\n",
              " array([0.00151746], dtype=float32),\n",
              " array([0.00240401], dtype=float32),\n",
              " array([0.00158412], dtype=float32),\n",
              " array([0.00151144], dtype=float32),\n",
              " array([0.00152015], dtype=float32),\n",
              " array([0.00346697], dtype=float32),\n",
              " array([0.07476186], dtype=float32),\n",
              " array([0.00163769], dtype=float32),\n",
              " array([0.00151349], dtype=float32),\n",
              " array([0.0015114], dtype=float32),\n",
              " array([0.00174651], dtype=float32),\n",
              " array([0.59292036], dtype=float32),\n",
              " array([0.00151158], dtype=float32),\n",
              " array([0.00275881], dtype=float32),\n",
              " array([0.00151989], dtype=float32),\n",
              " array([0.5596431], dtype=float32),\n",
              " array([0.00151763], dtype=float32),\n",
              " array([0.00181498], dtype=float32),\n",
              " array([0.08867281], dtype=float32),\n",
              " array([0.00163197], dtype=float32),\n",
              " array([0.00159484], dtype=float32),\n",
              " array([0.00157087], dtype=float32),\n",
              " array([0.00151506], dtype=float32),\n",
              " array([0.00151537], dtype=float32),\n",
              " array([0.00151455], dtype=float32),\n",
              " array([0.00157455], dtype=float32),\n",
              " array([0.00180117], dtype=float32),\n",
              " array([0.02206912], dtype=float32),\n",
              " array([0.00152251], dtype=float32),\n",
              " array([0.00152146], dtype=float32),\n",
              " array([0.00151831], dtype=float32),\n",
              " array([0.00152056], dtype=float32),\n",
              " array([0.03921576], dtype=float32),\n",
              " array([0.55860895], dtype=float32),\n",
              " array([0.00152071], dtype=float32),\n",
              " array([0.00179365], dtype=float32),\n",
              " array([0.5923766], dtype=float32),\n",
              " array([0.11060568], dtype=float32),\n",
              " array([0.00151393], dtype=float32),\n",
              " array([0.00156313], dtype=float32),\n",
              " array([0.0016362], dtype=float32),\n",
              " array([0.00155559], dtype=float32),\n",
              " array([0.0018422], dtype=float32),\n",
              " array([0.00184336], dtype=float32),\n",
              " array([0.00151617], dtype=float32),\n",
              " array([0.11203066], dtype=float32),\n",
              " array([0.00152807], dtype=float32),\n",
              " array([0.00151897], dtype=float32),\n",
              " array([0.00168234], dtype=float32),\n",
              " array([0.00151629], dtype=float32),\n",
              " array([0.00153915], dtype=float32),\n",
              " array([0.00209921], dtype=float32),\n",
              " array([0.0015195], dtype=float32),\n",
              " array([0.12281899], dtype=float32),\n",
              " array([0.0742739], dtype=float32),\n",
              " array([0.00151704], dtype=float32),\n",
              " array([0.00151453], dtype=float32),\n",
              " array([0.00151522], dtype=float32),\n",
              " array([0.00168999], dtype=float32),\n",
              " array([0.00151324], dtype=float32),\n",
              " array([0.0015181], dtype=float32),\n",
              " array([0.00151825], dtype=float32),\n",
              " array([0.00151146], dtype=float32),\n",
              " array([0.01875793], dtype=float32),\n",
              " array([0.0015181], dtype=float32),\n",
              " array([0.00167884], dtype=float32),\n",
              " array([0.00160924], dtype=float32),\n",
              " array([0.00151419], dtype=float32),\n",
              " array([0.5739283], dtype=float32),\n",
              " array([0.11747047], dtype=float32),\n",
              " array([0.00151665], dtype=float32),\n",
              " array([0.04027427], dtype=float32),\n",
              " array([0.00151784], dtype=float32),\n",
              " array([0.01406636], dtype=float32),\n",
              " array([0.00158208], dtype=float32),\n",
              " array([0.11643542], dtype=float32),\n",
              " array([0.03588234], dtype=float32),\n",
              " array([0.00151816], dtype=float32),\n",
              " array([0.00158629], dtype=float32),\n",
              " array([0.00151273], dtype=float32),\n",
              " array([0.0015212], dtype=float32),\n",
              " array([0.00152549], dtype=float32),\n",
              " array([0.00152381], dtype=float32),\n",
              " array([0.00176501], dtype=float32),\n",
              " array([0.00151367], dtype=float32),\n",
              " array([0.0016694], dtype=float32),\n",
              " array([0.00175929], dtype=float32),\n",
              " array([0.00151365], dtype=float32),\n",
              " array([0.00151582], dtype=float32),\n",
              " array([0.00158686], dtype=float32),\n",
              " array([0.00151829], dtype=float32),\n",
              " array([0.00157678], dtype=float32),\n",
              " array([0.00160334], dtype=float32),\n",
              " array([0.03297343], dtype=float32),\n",
              " array([0.00151305], dtype=float32),\n",
              " array([0.00151934], dtype=float32),\n",
              " array([0.26720494], dtype=float32),\n",
              " array([0.00157845], dtype=float32),\n",
              " array([0.00161466], dtype=float32),\n",
              " array([0.00151143], dtype=float32),\n",
              " array([0.50937015], dtype=float32),\n",
              " array([0.00151629], dtype=float32),\n",
              " array([0.00420994], dtype=float32),\n",
              " array([0.00157739], dtype=float32),\n",
              " array([0.00155148], dtype=float32),\n",
              " array([0.00151529], dtype=float32),\n",
              " array([0.16305123], dtype=float32),\n",
              " array([0.0015113], dtype=float32),\n",
              " array([0.14546485], dtype=float32),\n",
              " array([0.00151795], dtype=float32),\n",
              " array([0.00253406], dtype=float32),\n",
              " array([0.00153797], dtype=float32),\n",
              " array([0.00151678], dtype=float32),\n",
              " array([0.00151723], dtype=float32),\n",
              " array([0.00151217], dtype=float32),\n",
              " array([0.00151227], dtype=float32),\n",
              " array([0.00159653], dtype=float32),\n",
              " array([0.0015154], dtype=float32),\n",
              " array([0.00151313], dtype=float32),\n",
              " array([0.07427411], dtype=float32),\n",
              " array([0.00170901], dtype=float32),\n",
              " array([0.00151138], dtype=float32),\n",
              " array([0.00151617], dtype=float32),\n",
              " array([0.00151155], dtype=float32),\n",
              " array([0.00152599], dtype=float32),\n",
              " array([0.00151723], dtype=float32),\n",
              " array([0.00151629], dtype=float32),\n",
              " array([0.59593284], dtype=float32),\n",
              " array([0.16031992], dtype=float32),\n",
              " array([0.06730071], dtype=float32),\n",
              " array([0.15805139], dtype=float32),\n",
              " array([0.00155592], dtype=float32),\n",
              " array([0.001512], dtype=float32),\n",
              " array([0.10177253], dtype=float32),\n",
              " array([0.00151396], dtype=float32),\n",
              " array([0.00153023], dtype=float32),\n",
              " array([0.16531518], dtype=float32),\n",
              " array([0.00159228], dtype=float32),\n",
              " array([0.00162767], dtype=float32),\n",
              " array([0.00151182], dtype=float32),\n",
              " array([0.00151594], dtype=float32),\n",
              " array([0.00157887], dtype=float32),\n",
              " array([0.00152581], dtype=float32),\n",
              " array([0.00151756], dtype=float32),\n",
              " array([0.00172724], dtype=float32),\n",
              " array([0.5939722], dtype=float32),\n",
              " array([0.00151433], dtype=float32),\n",
              " array([0.16721696], dtype=float32),\n",
              " array([0.0015752], dtype=float32),\n",
              " array([0.00186309], dtype=float32),\n",
              " array([0.001514], dtype=float32),\n",
              " array([0.00152477], dtype=float32),\n",
              " array([0.5946406], dtype=float32),\n",
              " array([0.00151145], dtype=float32),\n",
              " array([0.37695897], dtype=float32),\n",
              " array([0.0020722], dtype=float32),\n",
              " array([0.00151505], dtype=float32),\n",
              " array([0.00151388], dtype=float32),\n",
              " array([0.16398841], dtype=float32),\n",
              " array([0.00152438], dtype=float32),\n",
              " array([0.0015143], dtype=float32),\n",
              " array([0.00261016], dtype=float32),\n",
              " array([0.00151877], dtype=float32),\n",
              " array([0.00151773], dtype=float32),\n",
              " array([0.00151287], dtype=float32),\n",
              " array([0.00151157], dtype=float32),\n",
              " array([0.00161383], dtype=float32),\n",
              " array([0.00151384], dtype=float32),\n",
              " array([0.06739943], dtype=float32),\n",
              " array([0.00151871], dtype=float32),\n",
              " array([0.5955715], dtype=float32),\n",
              " array([0.59314525], dtype=float32),\n",
              " array([0.08374815], dtype=float32),\n",
              " array([0.00161569], dtype=float32),\n",
              " array([0.00151783], dtype=float32),\n",
              " array([0.00154393], dtype=float32),\n",
              " array([0.00151247], dtype=float32),\n",
              " array([0.00151157], dtype=float32),\n",
              " array([0.00151907], dtype=float32),\n",
              " array([0.00151159], dtype=float32),\n",
              " array([0.00151316], dtype=float32),\n",
              " array([0.20053285], dtype=float32),\n",
              " array([0.11292231], dtype=float32),\n",
              " array([0.04677485], dtype=float32),\n",
              " array([0.02681245], dtype=float32),\n",
              " array([0.00158304], dtype=float32),\n",
              " array([0.00169339], dtype=float32),\n",
              " array([0.15064807], dtype=float32),\n",
              " array([0.00151857], dtype=float32),\n",
              " array([0.0015166], dtype=float32),\n",
              " array([0.00151204], dtype=float32),\n",
              " array([0.00187048], dtype=float32),\n",
              " array([0.00151438], dtype=float32),\n",
              " array([0.22270453], dtype=float32),\n",
              " array([0.00151145], dtype=float32),\n",
              " array([0.00151932], dtype=float32),\n",
              " array([0.00152865], dtype=float32),\n",
              " array([0.07003746], dtype=float32),\n",
              " array([0.00151186], dtype=float32),\n",
              " array([0.0015198], dtype=float32),\n",
              " array([0.0015132], dtype=float32),\n",
              " array([0.00152004], dtype=float32),\n",
              " array([0.00165109], dtype=float32),\n",
              " array([0.00151335], dtype=float32),\n",
              " array([0.13265568], dtype=float32),\n",
              " array([0.48966798], dtype=float32),\n",
              " array([0.00154881], dtype=float32),\n",
              " array([0.00179279], dtype=float32),\n",
              " array([0.01730251], dtype=float32),\n",
              " array([0.00238878], dtype=float32),\n",
              " array([0.59255457], dtype=float32),\n",
              " array([0.06865791], dtype=float32),\n",
              " array([0.00151676], dtype=float32),\n",
              " array([0.00151522], dtype=float32),\n",
              " array([0.00151356], dtype=float32),\n",
              " array([0.00151446], dtype=float32),\n",
              " array([0.00152051], dtype=float32),\n",
              " array([0.00151857], dtype=float32),\n",
              " array([0.00151428], dtype=float32),\n",
              " array([0.00152117], dtype=float32),\n",
              " array([0.11281142], dtype=float32),\n",
              " array([0.00151187], dtype=float32),\n",
              " array([0.0015199], dtype=float32),\n",
              " array([0.1191605], dtype=float32),\n",
              " array([0.03088637], dtype=float32),\n",
              " array([0.00151357], dtype=float32),\n",
              " array([0.00151586], dtype=float32),\n",
              " array([0.0015121], dtype=float32),\n",
              " array([0.00153472], dtype=float32),\n",
              " array([0.24534369], dtype=float32),\n",
              " array([0.00151241], dtype=float32),\n",
              " array([0.00152895], dtype=float32),\n",
              " array([0.00191696], dtype=float32),\n",
              " array([0.00151381], dtype=float32),\n",
              " array([0.00152659], dtype=float32),\n",
              " array([0.00248811], dtype=float32),\n",
              " array([0.00151373], dtype=float32),\n",
              " array([0.00156832], dtype=float32),\n",
              " array([0.0015179], dtype=float32),\n",
              " array([0.00151924], dtype=float32),\n",
              " array([0.00164889], dtype=float32),\n",
              " array([0.00151257], dtype=float32),\n",
              " array([0.0015126], dtype=float32),\n",
              " array([0.00155319], dtype=float32),\n",
              " array([0.59095955], dtype=float32),\n",
              " array([0.00151969], dtype=float32),\n",
              " array([0.00151326], dtype=float32),\n",
              " array([0.00172849], dtype=float32),\n",
              " array([0.00151243], dtype=float32),\n",
              " array([0.00153487], dtype=float32),\n",
              " array([0.00151688], dtype=float32),\n",
              " array([0.0844591], dtype=float32),\n",
              " array([0.00152326], dtype=float32),\n",
              " array([0.0016954], dtype=float32),\n",
              " array([0.2787944], dtype=float32),\n",
              " array([0.00151867], dtype=float32),\n",
              " array([0.06865382], dtype=float32),\n",
              " array([0.00215912], dtype=float32),\n",
              " array([0.00151196], dtype=float32),\n",
              " array([0.0015127], dtype=float32),\n",
              " array([0.00151718], dtype=float32),\n",
              " array([0.00151161], dtype=float32),\n",
              " array([0.00151868], dtype=float32),\n",
              " array([0.00152065], dtype=float32),\n",
              " array([0.00160121], dtype=float32),\n",
              " array([0.18135163], dtype=float32),\n",
              " array([0.00272693], dtype=float32),\n",
              " array([0.00158097], dtype=float32),\n",
              " array([0.17576934], dtype=float32),\n",
              " array([0.00151582], dtype=float32),\n",
              " array([0.00151877], dtype=float32),\n",
              " array([0.00185591], dtype=float32),\n",
              " array([0.00151465], dtype=float32),\n",
              " array([0.09324392], dtype=float32),\n",
              " array([0.0015115], dtype=float32),\n",
              " array([0.00151374], dtype=float32),\n",
              " array([0.00168167], dtype=float32),\n",
              " array([0.5932507], dtype=float32),\n",
              " array([0.00151714], dtype=float32),\n",
              " array([0.00151814], dtype=float32),\n",
              " array([0.00151426], dtype=float32),\n",
              " array([0.00158264], dtype=float32),\n",
              " array([0.07239547], dtype=float32),\n",
              " array([0.4941714], dtype=float32),\n",
              " array([0.00151373], dtype=float32),\n",
              " array([0.00151169], dtype=float32),\n",
              " array([0.0015521], dtype=float32),\n",
              " array([0.16606149], dtype=float32),\n",
              " array([0.19030496], dtype=float32),\n",
              " array([0.00151339], dtype=float32),\n",
              " array([0.16310053], dtype=float32),\n",
              " array([0.00151718], dtype=float32),\n",
              " array([0.0015133], dtype=float32),\n",
              " array([0.0637036], dtype=float32),\n",
              " array([0.19042033], dtype=float32),\n",
              " array([0.00151151], dtype=float32),\n",
              " array([0.0015151], dtype=float32),\n",
              " array([0.00152296], dtype=float32),\n",
              " array([0.00151284], dtype=float32),\n",
              " array([0.00159084], dtype=float32),\n",
              " array([0.00151383], dtype=float32),\n",
              " array([0.00151222], dtype=float32),\n",
              " array([0.00151429], dtype=float32),\n",
              " array([0.0015598], dtype=float32),\n",
              " array([0.00155286], dtype=float32),\n",
              " array([0.00151747], dtype=float32),\n",
              " array([0.00155938], dtype=float32),\n",
              " array([0.00151877], dtype=float32),\n",
              " array([0.00151478], dtype=float32),\n",
              " array([0.13834846], dtype=float32),\n",
              " array([0.00151425], dtype=float32),\n",
              " array([0.00154286], dtype=float32),\n",
              " array([0.00151838], dtype=float32),\n",
              " array([0.00151761], dtype=float32),\n",
              " array([0.00159866], dtype=float32),\n",
              " array([0.20253512], dtype=float32),\n",
              " array([0.00183788], dtype=float32),\n",
              " array([0.00159537], dtype=float32),\n",
              " array([0.07358972], dtype=float32),\n",
              " array([0.0015197], dtype=float32),\n",
              " array([0.00151204], dtype=float32),\n",
              " array([0.00152155], dtype=float32),\n",
              " array([0.00152281], dtype=float32),\n",
              " array([0.35879198], dtype=float32),\n",
              " array([0.0015137], dtype=float32),\n",
              " array([0.00152101], dtype=float32),\n",
              " array([0.0733024], dtype=float32),\n",
              " array([0.00151606], dtype=float32),\n",
              " array([0.00153025], dtype=float32),\n",
              " array([0.00165223], dtype=float32),\n",
              " array([0.05669042], dtype=float32),\n",
              " array([0.001673], dtype=float32),\n",
              " array([0.00151541], dtype=float32),\n",
              " array([0.5745512], dtype=float32),\n",
              " array([0.00153493], dtype=float32),\n",
              " array([0.07309558], dtype=float32),\n",
              " array([0.00151677], dtype=float32),\n",
              " array([0.00151799], dtype=float32),\n",
              " array([0.16158187], dtype=float32),\n",
              " array([0.00155111], dtype=float32),\n",
              " array([0.0016013], dtype=float32),\n",
              " array([0.53203386], dtype=float32),\n",
              " array([0.00151407], dtype=float32),\n",
              " array([0.00157975], dtype=float32),\n",
              " array([0.00151896], dtype=float32),\n",
              " array([0.00151605], dtype=float32),\n",
              " array([0.00160372], dtype=float32),\n",
              " array([0.00151596], dtype=float32),\n",
              " array([0.00151699], dtype=float32),\n",
              " array([0.0015207], dtype=float32),\n",
              " array([0.00159321], dtype=float32),\n",
              " array([0.10680901], dtype=float32),\n",
              " array([0.5903796], dtype=float32),\n",
              " array([0.00163533], dtype=float32),\n",
              " array([0.00152356], dtype=float32),\n",
              " array([0.00151693], dtype=float32),\n",
              " array([0.00151592], dtype=float32),\n",
              " array([0.15571032], dtype=float32),\n",
              " array([0.5569503], dtype=float32),\n",
              " array([0.07754572], dtype=float32),\n",
              " array([0.00677456], dtype=float32),\n",
              " array([0.22453587], dtype=float32),\n",
              " array([0.00151958], dtype=float32),\n",
              " array([0.00151706], dtype=float32),\n",
              " array([0.00151513], dtype=float32),\n",
              " array([0.00151162], dtype=float32),\n",
              " array([0.07001275], dtype=float32),\n",
              " array([0.00151176], dtype=float32),\n",
              " array([0.00155209], dtype=float32),\n",
              " array([0.00157087], dtype=float32),\n",
              " array([0.00151435], dtype=float32),\n",
              " array([0.12409043], dtype=float32),\n",
              " array([0.00157337], dtype=float32),\n",
              " array([0.5945332], dtype=float32),\n",
              " array([0.00151186], dtype=float32),\n",
              " array([0.00409454], dtype=float32),\n",
              " array([0.00151597], dtype=float32),\n",
              " array([0.00152968], dtype=float32),\n",
              " array([0.00243572], dtype=float32),\n",
              " array([0.00159104], dtype=float32),\n",
              " array([0.04522073], dtype=float32),\n",
              " array([0.001516], dtype=float32),\n",
              " array([0.00151622], dtype=float32),\n",
              " array([0.00151721], dtype=float32),\n",
              " array([0.59018373], dtype=float32),\n",
              " array([0.09983772], dtype=float32),\n",
              " array([0.00152131], dtype=float32),\n",
              " array([0.08040014], dtype=float32),\n",
              " array([0.00159182], dtype=float32),\n",
              " array([0.00151762], dtype=float32),\n",
              " array([0.00151678], dtype=float32),\n",
              " array([0.12643017], dtype=float32),\n",
              " array([0.5955873], dtype=float32),\n",
              " array([0.00770102], dtype=float32),\n",
              " array([0.00151575], dtype=float32),\n",
              " array([0.00151716], dtype=float32),\n",
              " array([0.00151694], dtype=float32),\n",
              " array([0.00151657], dtype=float32),\n",
              " array([0.00151507], dtype=float32),\n",
              " array([0.21773246], dtype=float32),\n",
              " array([0.00152252], dtype=float32),\n",
              " array([0.00151583], dtype=float32),\n",
              " array([0.00151534], dtype=float32),\n",
              " array([0.00190411], dtype=float32),\n",
              " array([0.00161719], dtype=float32),\n",
              " array([0.03409443], dtype=float32),\n",
              " array([0.00151968], dtype=float32),\n",
              " array([0.00151476], dtype=float32),\n",
              " array([0.00159479], dtype=float32),\n",
              " array([0.04687411], dtype=float32),\n",
              " array([0.00151855], dtype=float32),\n",
              " array([0.00153044], dtype=float32),\n",
              " array([0.00151958], dtype=float32),\n",
              " array([0.14498223], dtype=float32),\n",
              " array([0.00151575], dtype=float32),\n",
              " array([0.16402732], dtype=float32),\n",
              " array([0.00157315], dtype=float32),\n",
              " array([0.00151809], dtype=float32),\n",
              " array([0.00154344], dtype=float32),\n",
              " array([0.00154815], dtype=float32),\n",
              " array([0.00151166], dtype=float32),\n",
              " array([0.07168431], dtype=float32),\n",
              " array([0.06998817], dtype=float32),\n",
              " array([0.00163986], dtype=float32),\n",
              " array([0.00152054], dtype=float32),\n",
              " array([0.001514], dtype=float32),\n",
              " array([0.00154237], dtype=float32),\n",
              " array([0.00151452], dtype=float32),\n",
              " array([0.00152143], dtype=float32),\n",
              " array([0.00227731], dtype=float32),\n",
              " array([0.00158268], dtype=float32),\n",
              " array([0.07089848], dtype=float32),\n",
              " array([0.00187737], dtype=float32),\n",
              " array([0.00159804], dtype=float32),\n",
              " array([0.12325669], dtype=float32),\n",
              " array([0.47113374], dtype=float32),\n",
              " array([0.00152689], dtype=float32),\n",
              " array([0.00209696], dtype=float32),\n",
              " array([0.00151507], dtype=float32),\n",
              " array([0.00152212], dtype=float32),\n",
              " array([0.0963139], dtype=float32),\n",
              " array([0.0015155], dtype=float32),\n",
              " array([0.00152427], dtype=float32),\n",
              " array([0.00151214], dtype=float32),\n",
              " array([0.0015134], dtype=float32),\n",
              " array([0.59349024], dtype=float32),\n",
              " array([0.00156974], dtype=float32),\n",
              " array([0.0015158], dtype=float32),\n",
              " array([0.00151171], dtype=float32),\n",
              " array([0.5848709], dtype=float32),\n",
              " array([0.01109391], dtype=float32),\n",
              " array([0.00151502], dtype=float32),\n",
              " array([0.00151124], dtype=float32),\n",
              " array([0.00151783], dtype=float32),\n",
              " array([0.03463892], dtype=float32),\n",
              " array([0.00151326], dtype=float32),\n",
              " array([0.00152047], dtype=float32),\n",
              " array([0.00151496], dtype=float32),\n",
              " array([0.00151977], dtype=float32),\n",
              " array([0.41517657], dtype=float32),\n",
              " array([0.00151386], dtype=float32),\n",
              " array([0.5318326], dtype=float32),\n",
              " array([0.00151212], dtype=float32),\n",
              " array([0.00151374], dtype=float32),\n",
              " array([0.0015121], dtype=float32),\n",
              " array([0.03793599], dtype=float32),\n",
              " array([0.59241223], dtype=float32),\n",
              " array([0.0015151], dtype=float32),\n",
              " array([0.00151796], dtype=float32),\n",
              " array([0.00198751], dtype=float32),\n",
              " array([0.38284776], dtype=float32),\n",
              " array([0.00152113], dtype=float32),\n",
              " array([0.00152376], dtype=float32),\n",
              " array([0.00152428], dtype=float32),\n",
              " array([0.00151931], dtype=float32),\n",
              " array([0.00151223], dtype=float32),\n",
              " array([0.00152098], dtype=float32),\n",
              " array([0.00157463], dtype=float32),\n",
              " array([0.00152014], dtype=float32),\n",
              " array([0.00151932], dtype=float32),\n",
              " array([0.33746424], dtype=float32),\n",
              " array([0.09432445], dtype=float32),\n",
              " array([0.00151472], dtype=float32),\n",
              " array([0.00178369], dtype=float32),\n",
              " array([0.45517305], dtype=float32),\n",
              " array([0.00152137], dtype=float32),\n",
              " array([0.0015165], dtype=float32),\n",
              " array([0.07483765], dtype=float32),\n",
              " array([0.00156612], dtype=float32),\n",
              " array([0.0015911], dtype=float32),\n",
              " array([0.00151253], dtype=float32),\n",
              " array([0.00151275], dtype=float32),\n",
              " array([0.00169308], dtype=float32),\n",
              " array([0.14457381], dtype=float32),\n",
              " array([0.00161061], dtype=float32),\n",
              " array([0.5755806], dtype=float32),\n",
              " array([0.07438678], dtype=float32),\n",
              " array([0.01173791], dtype=float32),\n",
              " array([0.00168521], dtype=float32),\n",
              " array([0.00151676], dtype=float32),\n",
              " array([0.00161482], dtype=float32),\n",
              " array([0.05827106], dtype=float32),\n",
              " array([0.00177], dtype=float32),\n",
              " array([0.00151166], dtype=float32),\n",
              " array([0.00151115], dtype=float32),\n",
              " array([0.0015161], dtype=float32),\n",
              " array([0.00151284], dtype=float32),\n",
              " array([0.00153329], dtype=float32),\n",
              " array([0.00152477], dtype=float32),\n",
              " array([0.00157183], dtype=float32),\n",
              " array([0.00151156], dtype=float32),\n",
              " array([0.12653877], dtype=float32),\n",
              " array([0.00157508], dtype=float32),\n",
              " array([0.00153914], dtype=float32),\n",
              " array([0.00205781], dtype=float32),\n",
              " array([0.00151982], dtype=float32),\n",
              " array([0.00151763], dtype=float32),\n",
              " array([0.00151378], dtype=float32),\n",
              " array([0.00263518], dtype=float32),\n",
              " array([0.0015128], dtype=float32),\n",
              " array([0.00151799], dtype=float32),\n",
              " array([0.09473448], dtype=float32),\n",
              " array([0.00151143], dtype=float32),\n",
              " array([0.00154415], dtype=float32),\n",
              " array([0.00151645], dtype=float32),\n",
              " array([0.00160442], dtype=float32),\n",
              " array([0.09843022], dtype=float32),\n",
              " array([0.00151125], dtype=float32),\n",
              " array([0.00151149], dtype=float32),\n",
              " array([0.00152616], dtype=float32),\n",
              " array([0.00152075], dtype=float32),\n",
              " array([0.00152072], dtype=float32),\n",
              " array([0.08714922], dtype=float32),\n",
              " array([0.00151236], dtype=float32),\n",
              " array([0.07232225], dtype=float32),\n",
              " array([0.00151249], dtype=float32),\n",
              " array([0.00151576], dtype=float32),\n",
              " array([0.00151309], dtype=float32),\n",
              " array([0.00151311], dtype=float32),\n",
              " array([0.02347772], dtype=float32),\n",
              " array([0.00151519], dtype=float32),\n",
              " array([0.00151164], dtype=float32),\n",
              " array([0.00151685], dtype=float32),\n",
              " array([0.16360235], dtype=float32),\n",
              " array([0.00152006], dtype=float32),\n",
              " array([0.00155667], dtype=float32),\n",
              " array([0.59660447], dtype=float32),\n",
              " array([0.48690897], dtype=float32),\n",
              " array([0.00159101], dtype=float32),\n",
              " array([0.07676004], dtype=float32),\n",
              " array([0.00167892], dtype=float32),\n",
              " array([0.00152549], dtype=float32),\n",
              " array([0.13000703], dtype=float32),\n",
              " array([0.00151404], dtype=float32),\n",
              " array([0.5779147], dtype=float32),\n",
              " array([0.00159312], dtype=float32),\n",
              " array([0.5897772], dtype=float32),\n",
              " array([0.00151331], dtype=float32),\n",
              " array([0.00155488], dtype=float32),\n",
              " array([0.00152025], dtype=float32),\n",
              " array([0.00161871], dtype=float32),\n",
              " array([0.55631036], dtype=float32),\n",
              " array([0.52692163], dtype=float32),\n",
              " array([0.08071999], dtype=float32),\n",
              " array([0.07353347], dtype=float32),\n",
              " array([0.00163987], dtype=float32),\n",
              " array([0.001519], dtype=float32),\n",
              " array([0.00151773], dtype=float32),\n",
              " array([0.08925323], dtype=float32),\n",
              " array([0.00151861], dtype=float32),\n",
              " array([0.0015342], dtype=float32),\n",
              " array([0.2435655], dtype=float32),\n",
              " array([0.00155609], dtype=float32),\n",
              " array([0.00162017], dtype=float32),\n",
              " array([0.00151698], dtype=float32),\n",
              " array([0.00151449], dtype=float32),\n",
              " array([0.08877463], dtype=float32),\n",
              " array([0.11921602], dtype=float32),\n",
              " array([0.00405149], dtype=float32),\n",
              " array([0.22288105], dtype=float32),\n",
              " array([0.00167495], dtype=float32),\n",
              " array([0.0015118], dtype=float32),\n",
              " array([0.10984147], dtype=float32),\n",
              " array([0.10310896], dtype=float32),\n",
              " array([0.00158726], dtype=float32),\n",
              " array([0.00151203], dtype=float32),\n",
              " array([0.00151361], dtype=float32),\n",
              " array([0.5437392], dtype=float32),\n",
              " array([0.00151408], dtype=float32),\n",
              " array([0.00161623], dtype=float32),\n",
              " array([0.00151647], dtype=float32),\n",
              " array([0.00151447], dtype=float32),\n",
              " array([0.00151923], dtype=float32),\n",
              " array([0.07051856], dtype=float32),\n",
              " array([0.00151337], dtype=float32),\n",
              " array([0.00151431], dtype=float32),\n",
              " array([0.008206], dtype=float32),\n",
              " array([0.00151924], dtype=float32),\n",
              " array([0.00151179], dtype=float32),\n",
              " array([0.00151232], dtype=float32),\n",
              " array([0.00151213], dtype=float32),\n",
              " array([0.00151295], dtype=float32),\n",
              " array([0.00156327], dtype=float32),\n",
              " array([0.00152106], dtype=float32),\n",
              " array([0.00151342], dtype=float32),\n",
              " array([0.00151448], dtype=float32),\n",
              " array([0.0015443], dtype=float32),\n",
              " array([0.00154647], dtype=float32),\n",
              " array([0.00151366], dtype=float32),\n",
              " array([0.00151576], dtype=float32),\n",
              " array([0.00154487], dtype=float32),\n",
              " array([0.00159162], dtype=float32),\n",
              " array([0.00161653], dtype=float32),\n",
              " array([0.00151279], dtype=float32),\n",
              " array([0.07196511], dtype=float32),\n",
              " array([0.00151824], dtype=float32),\n",
              " array([0.0511656], dtype=float32),\n",
              " array([0.00151163], dtype=float32),\n",
              " array([0.00157531], dtype=float32),\n",
              " array([0.00151864], dtype=float32),\n",
              " array([0.00151187], dtype=float32),\n",
              " array([0.00151285], dtype=float32),\n",
              " array([0.00151678], dtype=float32),\n",
              " array([0.00154189], dtype=float32),\n",
              " array([0.00153282], dtype=float32),\n",
              " array([0.00151298], dtype=float32),\n",
              " array([0.00151275], dtype=float32),\n",
              " array([0.1204638], dtype=float32),\n",
              " array([0.09292621], dtype=float32),\n",
              " array([0.0015157], dtype=float32),\n",
              " array([0.05145895], dtype=float32),\n",
              " array([0.00151416], dtype=float32),\n",
              " array([0.00151428], dtype=float32),\n",
              " array([0.00152075], dtype=float32),\n",
              " array([0.00151457], dtype=float32),\n",
              " array([0.03901279], dtype=float32),\n",
              " array([0.00152081], dtype=float32),\n",
              " array([0.00158272], dtype=float32),\n",
              " array([0.00171486], dtype=float32),\n",
              " array([0.0015281], dtype=float32),\n",
              " array([0.00192694], dtype=float32),\n",
              " array([0.00154552], dtype=float32),\n",
              " array([0.59284025], dtype=float32),\n",
              " array([0.001514], dtype=float32),\n",
              " array([0.00151361], dtype=float32),\n",
              " array([0.00151479], dtype=float32),\n",
              " array([0.00151517], dtype=float32),\n",
              " array([0.00151474], dtype=float32),\n",
              " array([0.00151154], dtype=float32),\n",
              " array([0.00151366], dtype=float32),\n",
              " array([0.00151947], dtype=float32),\n",
              " array([0.00151496], dtype=float32),\n",
              " array([0.00152345], dtype=float32),\n",
              " array([0.00151434], dtype=float32),\n",
              " array([0.18565157], dtype=float32),\n",
              " array([0.00158594], dtype=float32),\n",
              " array([0.00151798], dtype=float32),\n",
              " array([0.07917318], dtype=float32),\n",
              " array([0.00154352], dtype=float32),\n",
              " array([0.13298455], dtype=float32),\n",
              " array([0.00151724], dtype=float32),\n",
              " array([0.02814599], dtype=float32),\n",
              " array([0.00151613], dtype=float32),\n",
              " array([0.00151326], dtype=float32),\n",
              " array([0.00151308], dtype=float32),\n",
              " array([0.0015112], dtype=float32),\n",
              " array([0.08813513], dtype=float32),\n",
              " array([0.00152089], dtype=float32),\n",
              " array([0.00151908], dtype=float32),\n",
              " array([0.0015469], dtype=float32),\n",
              " array([0.00179987], dtype=float32),\n",
              " array([0.00151386], dtype=float32),\n",
              " array([0.00153591], dtype=float32),\n",
              " array([0.00185045], dtype=float32),\n",
              " array([0.10355358], dtype=float32),\n",
              " array([0.13629527], dtype=float32),\n",
              " array([0.00151533], dtype=float32),\n",
              " array([0.00156515], dtype=float32),\n",
              " array([0.00152322], dtype=float32),\n",
              " array([0.00151824], dtype=float32),\n",
              " array([0.00235586], dtype=float32),\n",
              " array([0.04564582], dtype=float32),\n",
              " array([0.00151407], dtype=float32),\n",
              " ...]"
            ]
          },
          "metadata": {
            "tags": []
          },
          "execution_count": 334
        }
      ]
    },
    {
      "metadata": {
        "id": "Qfbr729ITRZw",
        "colab_type": "code",
        "colab": {
          "autoexec": {
            "startup": false,
            "wait_interval": 0
          }
        }
      },
      "cell_type": "code",
      "source": [
        "y_pred = [1 if y[0]> 0.5 else 0 for y in y_pred]"
      ],
      "execution_count": 0,
      "outputs": []
    },
    {
      "metadata": {
        "id": "Rs5rFeu6TWF4",
        "colab_type": "code",
        "colab": {
          "autoexec": {
            "startup": false,
            "wait_interval": 0
          }
        }
      },
      "cell_type": "code",
      "source": [
        "ml=model.to_yaml()"
      ],
      "execution_count": 0,
      "outputs": []
    },
    {
      "metadata": {
        "id": "bvoLYt6mTXiJ",
        "colab_type": "code",
        "colab": {
          "autoexec": {
            "startup": false,
            "wait_interval": 0
          }
        }
      },
      "cell_type": "code",
      "source": [
        "with open('./precious.yaml','w') as g:\n",
        "  g.write(ml)\n",
        "g.close()\n",
        "\n",
        "model.save(\"precious-kit-9.h5\")"
      ],
      "execution_count": 0,
      "outputs": []
    },
    {
      "metadata": {
        "id": "gtaMK-ldU-WE",
        "colab_type": "code",
        "colab": {
          "autoexec": {
            "startup": false,
            "wait_interval": 0
          }
        }
      },
      "cell_type": "code",
      "source": [
        "from google.colab import files"
      ],
      "execution_count": 0,
      "outputs": []
    },
    {
      "metadata": {
        "id": "eD7OL3PwVGGq",
        "colab_type": "code",
        "colab": {
          "autoexec": {
            "startup": false,
            "wait_interval": 0
          },
          "output_extras": [
            {
              "item_id": 1
            }
          ],
          "base_uri": "https://localhost:8080/",
          "height": 118
        },
        "outputId": "1cf8c23c-0e96-4feb-9729-aaaa13384919",
        "executionInfo": {
          "status": "ok",
          "timestamp": 1519874229273,
          "user_tz": -330,
          "elapsed": 958,
          "user": {
            "displayName": "Papasani Mohansrinivas",
            "photoUrl": "https://lh3.googleusercontent.com/a/default-user=s128",
            "userId": "115424324096599609575"
          }
        }
      },
      "cell_type": "code",
      "source": [
        "!ls"
      ],
      "execution_count": 340,
      "outputs": [
        {
          "output_type": "stream",
          "text": [
            "criminal_test.csv   precious-kit-9.h5\t   submission_11.csv  submission_8.csv\r\n",
            "criminal_train.csv  precious-kit.h5\t   submission_12.csv  submission.csv\r\n",
            "model.h5\t    precious.yaml\t   submission_3.csv   why.csv\r\n",
            "precious-kit-2.h5   sample_submission.csv  submission_4.csv\r\n",
            "precious-kit-6.h5   submission\t\t   submission_6.csv\r\n",
            "precious-kit-8.h5   submission_10.csv\t   submission_7.csv\r\n"
          ],
          "name": "stdout"
        }
      ]
    },
    {
      "metadata": {
        "id": "PRQgV_2RVREP",
        "colab_type": "code",
        "colab": {
          "autoexec": {
            "startup": false,
            "wait_interval": 0
          }
        }
      },
      "cell_type": "code",
      "source": [
        "files.download('precious-kit-9.h5')"
      ],
      "execution_count": 0,
      "outputs": []
    },
    {
      "metadata": {
        "id": "fwn8FwKfVy4S",
        "colab_type": "code",
        "colab": {
          "autoexec": {
            "startup": false,
            "wait_interval": 0
          }
        }
      },
      "cell_type": "code",
      "source": [
        "ids = []\n",
        "import csv\n",
        "with open('./criminal_test.csv') as dd:\n",
        "  dd_= csv.reader(dd)\n",
        "  \n",
        "  for k in dd_:\n",
        "    ids.append(k[0])\n",
        "  "
      ],
      "execution_count": 0,
      "outputs": []
    },
    {
      "metadata": {
        "id": "kmWS_qLMXyAd",
        "colab_type": "code",
        "colab": {
          "autoexec": {
            "startup": false,
            "wait_interval": 0
          },
          "output_extras": [
            {
              "item_id": 1
            },
            {
              "item_id": 2
            }
          ],
          "base_uri": "https://localhost:8080/",
          "height": 67
        },
        "outputId": "1120f05a-74db-4c97-fd8e-3d52cceeb235",
        "executionInfo": {
          "status": "ok",
          "timestamp": 1519874241452,
          "user_tz": -330,
          "elapsed": 1030,
          "user": {
            "displayName": "Papasani Mohansrinivas",
            "photoUrl": "https://lh3.googleusercontent.com/a/default-user=s128",
            "userId": "115424324096599609575"
          }
        }
      },
      "cell_type": "code",
      "source": [
        "print(len(y_pred)==len(ids))\n",
        "print(ids[0])\n",
        "len(y_pred),len(ids)"
      ],
      "execution_count": 343,
      "outputs": [
        {
          "output_type": "stream",
          "text": [
            "False\n",
            "PERID\n"
          ],
          "name": "stdout"
        },
        {
          "output_type": "execute_result",
          "data": {
            "text/plain": [
              "(11430, 11431)"
            ]
          },
          "metadata": {
            "tags": []
          },
          "execution_count": 343
        }
      ]
    },
    {
      "metadata": {
        "id": "LF8mYZZwX_lN",
        "colab_type": "code",
        "colab": {
          "autoexec": {
            "startup": false,
            "wait_interval": 0
          }
        }
      },
      "cell_type": "code",
      "source": [
        "latest=DataFrame({'PERID':ids[1:],'Criminal':y_pred})"
      ],
      "execution_count": 0,
      "outputs": []
    },
    {
      "metadata": {
        "id": "f9C7_-k7YafQ",
        "colab_type": "code",
        "colab": {
          "autoexec": {
            "startup": false,
            "wait_interval": 0
          }
        }
      },
      "cell_type": "code",
      "source": [
        "latest = latest[['PERID','Criminal']]"
      ],
      "execution_count": 0,
      "outputs": []
    },
    {
      "metadata": {
        "id": "tLxcQVUlYe7i",
        "colab_type": "code",
        "colab": {
          "autoexec": {
            "startup": false,
            "wait_interval": 0
          }
        }
      },
      "cell_type": "code",
      "source": [
        "latest.to_csv('submission_13.csv', index=False)"
      ],
      "execution_count": 0,
      "outputs": []
    },
    {
      "metadata": {
        "id": "x6iD6mSOZrs6",
        "colab_type": "code",
        "colab": {
          "autoexec": {
            "startup": false,
            "wait_interval": 0
          },
          "output_extras": [
            {
              "item_id": 1
            }
          ],
          "base_uri": "https://localhost:8080/",
          "height": 118
        },
        "outputId": "5a9e274d-a5dc-44c0-afbb-024d133575e4",
        "executionInfo": {
          "status": "ok",
          "timestamp": 1519874256365,
          "user_tz": -330,
          "elapsed": 1114,
          "user": {
            "displayName": "Papasani Mohansrinivas",
            "photoUrl": "https://lh3.googleusercontent.com/a/default-user=s128",
            "userId": "115424324096599609575"
          }
        }
      },
      "cell_type": "code",
      "source": [
        "!ls"
      ],
      "execution_count": 347,
      "outputs": [
        {
          "output_type": "stream",
          "text": [
            "criminal_test.csv   precious-kit-9.h5\t   submission_11.csv  submission_7.csv\r\n",
            "criminal_train.csv  precious-kit.h5\t   submission_12.csv  submission_8.csv\r\n",
            "model.h5\t    precious.yaml\t   submission_13.csv  submission.csv\r\n",
            "precious-kit-2.h5   sample_submission.csv  submission_3.csv   why.csv\r\n",
            "precious-kit-6.h5   submission\t\t   submission_4.csv\r\n",
            "precious-kit-8.h5   submission_10.csv\t   submission_6.csv\r\n"
          ],
          "name": "stdout"
        }
      ]
    },
    {
      "metadata": {
        "id": "xW1ze3lhZzMJ",
        "colab_type": "code",
        "colab": {
          "autoexec": {
            "startup": false,
            "wait_interval": 0
          }
        }
      },
      "cell_type": "code",
      "source": [
        "from google.colab import files\n",
        "\n",
        "\n",
        "files.download('submission_13.csv')"
      ],
      "execution_count": 0,
      "outputs": []
    },
    {
      "metadata": {
        "id": "IycGD6fCb53B",
        "colab_type": "code",
        "colab": {
          "autoexec": {
            "startup": false,
            "wait_interval": 0
          },
          "output_extras": [
            {
              "item_id": 1
            }
          ],
          "base_uri": "https://localhost:8080/",
          "height": 16834
        },
        "outputId": "e6a4ce89-938c-4af1-d696-cc0c15b7d5cd",
        "executionInfo": {
          "status": "ok",
          "timestamp": 1519874177161,
          "user_tz": -330,
          "elapsed": 926,
          "user": {
            "displayName": "Papasani Mohansrinivas",
            "photoUrl": "https://lh3.googleusercontent.com/a/default-user=s128",
            "userId": "115424324096599609575"
          }
        }
      },
      "cell_type": "code",
      "source": [
        ""
      ],
      "execution_count": 331,
      "outputs": [
        {
          "output_type": "execute_result",
          "data": {
            "text/plain": [
              "[1,\n",
              " 1,\n",
              " 1,\n",
              " 1,\n",
              " 1,\n",
              " 1,\n",
              " 1,\n",
              " 1,\n",
              " 1,\n",
              " 1,\n",
              " 1,\n",
              " 1,\n",
              " 1,\n",
              " 1,\n",
              " 1,\n",
              " 1,\n",
              " 1,\n",
              " 1,\n",
              " 1,\n",
              " 1,\n",
              " 1,\n",
              " 1,\n",
              " 1,\n",
              " 1,\n",
              " 1,\n",
              " 1,\n",
              " 1,\n",
              " 1,\n",
              " 1,\n",
              " 1,\n",
              " 1,\n",
              " 1,\n",
              " 1,\n",
              " 1,\n",
              " 1,\n",
              " 1,\n",
              " 1,\n",
              " 1,\n",
              " 1,\n",
              " 1,\n",
              " 1,\n",
              " 1,\n",
              " 1,\n",
              " 1,\n",
              " 1,\n",
              " 1,\n",
              " 1,\n",
              " 1,\n",
              " 1,\n",
              " 1,\n",
              " 1,\n",
              " 1,\n",
              " 1,\n",
              " 1,\n",
              " 1,\n",
              " 1,\n",
              " 1,\n",
              " 1,\n",
              " 1,\n",
              " 1,\n",
              " 1,\n",
              " 1,\n",
              " 1,\n",
              " 1,\n",
              " 1,\n",
              " 1,\n",
              " 1,\n",
              " 1,\n",
              " 1,\n",
              " 1,\n",
              " 1,\n",
              " 1,\n",
              " 1,\n",
              " 1,\n",
              " 1,\n",
              " 1,\n",
              " 1,\n",
              " 1,\n",
              " 1,\n",
              " 1,\n",
              " 1,\n",
              " 1,\n",
              " 1,\n",
              " 1,\n",
              " 1,\n",
              " 1,\n",
              " 1,\n",
              " 1,\n",
              " 1,\n",
              " 1,\n",
              " 1,\n",
              " 1,\n",
              " 1,\n",
              " 1,\n",
              " 1,\n",
              " 1,\n",
              " 1,\n",
              " 1,\n",
              " 1,\n",
              " 1,\n",
              " 1,\n",
              " 1,\n",
              " 1,\n",
              " 1,\n",
              " 1,\n",
              " 1,\n",
              " 1,\n",
              " 1,\n",
              " 1,\n",
              " 1,\n",
              " 1,\n",
              " 1,\n",
              " 1,\n",
              " 1,\n",
              " 1,\n",
              " 1,\n",
              " 1,\n",
              " 1,\n",
              " 1,\n",
              " 1,\n",
              " 1,\n",
              " 1,\n",
              " 1,\n",
              " 1,\n",
              " 1,\n",
              " 1,\n",
              " 1,\n",
              " 1,\n",
              " 1,\n",
              " 1,\n",
              " 1,\n",
              " 1,\n",
              " 1,\n",
              " 1,\n",
              " 1,\n",
              " 1,\n",
              " 1,\n",
              " 1,\n",
              " 1,\n",
              " 1,\n",
              " 1,\n",
              " 1,\n",
              " 1,\n",
              " 1,\n",
              " 1,\n",
              " 1,\n",
              " 1,\n",
              " 1,\n",
              " 1,\n",
              " 1,\n",
              " 1,\n",
              " 1,\n",
              " 1,\n",
              " 1,\n",
              " 1,\n",
              " 1,\n",
              " 1,\n",
              " 1,\n",
              " 1,\n",
              " 1,\n",
              " 1,\n",
              " 1,\n",
              " 1,\n",
              " 1,\n",
              " 1,\n",
              " 1,\n",
              " 1,\n",
              " 1,\n",
              " 1,\n",
              " 1,\n",
              " 1,\n",
              " 1,\n",
              " 1,\n",
              " 1,\n",
              " 1,\n",
              " 1,\n",
              " 1,\n",
              " 1,\n",
              " 1,\n",
              " 1,\n",
              " 1,\n",
              " 1,\n",
              " 1,\n",
              " 1,\n",
              " 1,\n",
              " 1,\n",
              " 1,\n",
              " 1,\n",
              " 1,\n",
              " 1,\n",
              " 1,\n",
              " 1,\n",
              " 1,\n",
              " 1,\n",
              " 1,\n",
              " 1,\n",
              " 1,\n",
              " 1,\n",
              " 1,\n",
              " 1,\n",
              " 1,\n",
              " 1,\n",
              " 1,\n",
              " 1,\n",
              " 1,\n",
              " 1,\n",
              " 1,\n",
              " 1,\n",
              " 1,\n",
              " 1,\n",
              " 1,\n",
              " 1,\n",
              " 1,\n",
              " 1,\n",
              " 1,\n",
              " 1,\n",
              " 1,\n",
              " 1,\n",
              " 1,\n",
              " 1,\n",
              " 1,\n",
              " 1,\n",
              " 1,\n",
              " 1,\n",
              " 1,\n",
              " 1,\n",
              " 1,\n",
              " 1,\n",
              " 1,\n",
              " 1,\n",
              " 1,\n",
              " 1,\n",
              " 1,\n",
              " 1,\n",
              " 1,\n",
              " 1,\n",
              " 1,\n",
              " 1,\n",
              " 1,\n",
              " 1,\n",
              " 1,\n",
              " 1,\n",
              " 1,\n",
              " 1,\n",
              " 1,\n",
              " 1,\n",
              " 1,\n",
              " 1,\n",
              " 1,\n",
              " 1,\n",
              " 1,\n",
              " 1,\n",
              " 1,\n",
              " 1,\n",
              " 1,\n",
              " 1,\n",
              " 1,\n",
              " 1,\n",
              " 1,\n",
              " 1,\n",
              " 1,\n",
              " 1,\n",
              " 1,\n",
              " 1,\n",
              " 1,\n",
              " 1,\n",
              " 1,\n",
              " 1,\n",
              " 1,\n",
              " 1,\n",
              " 1,\n",
              " 1,\n",
              " 1,\n",
              " 1,\n",
              " 1,\n",
              " 1,\n",
              " 1,\n",
              " 1,\n",
              " 1,\n",
              " 1,\n",
              " 1,\n",
              " 1,\n",
              " 1,\n",
              " 1,\n",
              " 1,\n",
              " 1,\n",
              " 1,\n",
              " 1,\n",
              " 1,\n",
              " 1,\n",
              " 1,\n",
              " 1,\n",
              " 1,\n",
              " 1,\n",
              " 1,\n",
              " 1,\n",
              " 1,\n",
              " 1,\n",
              " 1,\n",
              " 1,\n",
              " 1,\n",
              " 1,\n",
              " 1,\n",
              " 1,\n",
              " 1,\n",
              " 1,\n",
              " 1,\n",
              " 1,\n",
              " 1,\n",
              " 1,\n",
              " 1,\n",
              " 1,\n",
              " 1,\n",
              " 1,\n",
              " 1,\n",
              " 1,\n",
              " 1,\n",
              " 1,\n",
              " 1,\n",
              " 1,\n",
              " 1,\n",
              " 1,\n",
              " 1,\n",
              " 1,\n",
              " 1,\n",
              " 1,\n",
              " 1,\n",
              " 1,\n",
              " 1,\n",
              " 1,\n",
              " 1,\n",
              " 1,\n",
              " 1,\n",
              " 1,\n",
              " 1,\n",
              " 1,\n",
              " 1,\n",
              " 1,\n",
              " 1,\n",
              " 1,\n",
              " 1,\n",
              " 1,\n",
              " 1,\n",
              " 1,\n",
              " 1,\n",
              " 1,\n",
              " 1,\n",
              " 1,\n",
              " 1,\n",
              " 1,\n",
              " 1,\n",
              " 1,\n",
              " 1,\n",
              " 1,\n",
              " 1,\n",
              " 1,\n",
              " 1,\n",
              " 1,\n",
              " 1,\n",
              " 1,\n",
              " 1,\n",
              " 1,\n",
              " 1,\n",
              " 1,\n",
              " 1,\n",
              " 1,\n",
              " 1,\n",
              " 1,\n",
              " 1,\n",
              " 1,\n",
              " 1,\n",
              " 1,\n",
              " 1,\n",
              " 1,\n",
              " 1,\n",
              " 1,\n",
              " 1,\n",
              " 1,\n",
              " 1,\n",
              " 1,\n",
              " 1,\n",
              " 1,\n",
              " 1,\n",
              " 1,\n",
              " 1,\n",
              " 1,\n",
              " 1,\n",
              " 1,\n",
              " 1,\n",
              " 1,\n",
              " 1,\n",
              " 1,\n",
              " 1,\n",
              " 1,\n",
              " 1,\n",
              " 1,\n",
              " 1,\n",
              " 1,\n",
              " 1,\n",
              " 1,\n",
              " 1,\n",
              " 1,\n",
              " 1,\n",
              " 1,\n",
              " 1,\n",
              " 1,\n",
              " 1,\n",
              " 1,\n",
              " 1,\n",
              " 1,\n",
              " 1,\n",
              " 1,\n",
              " 1,\n",
              " 1,\n",
              " 1,\n",
              " 1,\n",
              " 1,\n",
              " 1,\n",
              " 1,\n",
              " 1,\n",
              " 1,\n",
              " 1,\n",
              " 1,\n",
              " 1,\n",
              " 1,\n",
              " 1,\n",
              " 1,\n",
              " 1,\n",
              " 1,\n",
              " 1,\n",
              " 1,\n",
              " 1,\n",
              " 1,\n",
              " 1,\n",
              " 1,\n",
              " 1,\n",
              " 1,\n",
              " 1,\n",
              " 1,\n",
              " 1,\n",
              " 1,\n",
              " 1,\n",
              " 1,\n",
              " 1,\n",
              " 1,\n",
              " 1,\n",
              " 1,\n",
              " 1,\n",
              " 1,\n",
              " 1,\n",
              " 1,\n",
              " 1,\n",
              " 1,\n",
              " 1,\n",
              " 1,\n",
              " 1,\n",
              " 1,\n",
              " 1,\n",
              " 1,\n",
              " 1,\n",
              " 1,\n",
              " 1,\n",
              " 1,\n",
              " 1,\n",
              " 1,\n",
              " 1,\n",
              " 1,\n",
              " 1,\n",
              " 1,\n",
              " 1,\n",
              " 1,\n",
              " 1,\n",
              " 1,\n",
              " 1,\n",
              " 1,\n",
              " 1,\n",
              " 1,\n",
              " 1,\n",
              " 1,\n",
              " 1,\n",
              " 1,\n",
              " 1,\n",
              " 1,\n",
              " 1,\n",
              " 1,\n",
              " 1,\n",
              " 1,\n",
              " 1,\n",
              " 1,\n",
              " 1,\n",
              " 1,\n",
              " 1,\n",
              " 1,\n",
              " 1,\n",
              " 1,\n",
              " 1,\n",
              " 1,\n",
              " 1,\n",
              " 1,\n",
              " 1,\n",
              " 1,\n",
              " 1,\n",
              " 1,\n",
              " 1,\n",
              " 1,\n",
              " 1,\n",
              " 1,\n",
              " 1,\n",
              " 1,\n",
              " 1,\n",
              " 1,\n",
              " 1,\n",
              " 1,\n",
              " 1,\n",
              " 1,\n",
              " 1,\n",
              " 1,\n",
              " 1,\n",
              " 1,\n",
              " 1,\n",
              " 1,\n",
              " 1,\n",
              " 1,\n",
              " 1,\n",
              " 1,\n",
              " 1,\n",
              " 1,\n",
              " 1,\n",
              " 1,\n",
              " 1,\n",
              " 1,\n",
              " 1,\n",
              " 1,\n",
              " 1,\n",
              " 1,\n",
              " 1,\n",
              " 1,\n",
              " 1,\n",
              " 1,\n",
              " 1,\n",
              " 1,\n",
              " 1,\n",
              " 1,\n",
              " 1,\n",
              " 1,\n",
              " 1,\n",
              " 1,\n",
              " 1,\n",
              " 1,\n",
              " 1,\n",
              " 1,\n",
              " 1,\n",
              " 1,\n",
              " 1,\n",
              " 1,\n",
              " 1,\n",
              " 1,\n",
              " 1,\n",
              " 1,\n",
              " 1,\n",
              " 1,\n",
              " 1,\n",
              " 1,\n",
              " 1,\n",
              " 1,\n",
              " 1,\n",
              " 1,\n",
              " 1,\n",
              " 1,\n",
              " 1,\n",
              " 1,\n",
              " 1,\n",
              " 1,\n",
              " 1,\n",
              " 1,\n",
              " 1,\n",
              " 1,\n",
              " 1,\n",
              " 1,\n",
              " 1,\n",
              " 1,\n",
              " 1,\n",
              " 1,\n",
              " 1,\n",
              " 1,\n",
              " 1,\n",
              " 1,\n",
              " 1,\n",
              " 1,\n",
              " 1,\n",
              " 1,\n",
              " 1,\n",
              " 1,\n",
              " 1,\n",
              " 1,\n",
              " 1,\n",
              " 1,\n",
              " 1,\n",
              " 1,\n",
              " 1,\n",
              " 1,\n",
              " 1,\n",
              " 1,\n",
              " 1,\n",
              " 1,\n",
              " 1,\n",
              " 1,\n",
              " 1,\n",
              " 1,\n",
              " 1,\n",
              " 1,\n",
              " 1,\n",
              " 1,\n",
              " 1,\n",
              " 1,\n",
              " 1,\n",
              " 1,\n",
              " 1,\n",
              " 1,\n",
              " 1,\n",
              " 1,\n",
              " 1,\n",
              " 1,\n",
              " 1,\n",
              " 1,\n",
              " 1,\n",
              " 1,\n",
              " 1,\n",
              " 1,\n",
              " 1,\n",
              " 1,\n",
              " 1,\n",
              " 1,\n",
              " 1,\n",
              " 1,\n",
              " 1,\n",
              " 1,\n",
              " 1,\n",
              " 1,\n",
              " 1,\n",
              " 1,\n",
              " 1,\n",
              " 1,\n",
              " 1,\n",
              " 1,\n",
              " 1,\n",
              " 1,\n",
              " 1,\n",
              " 1,\n",
              " 1,\n",
              " 1,\n",
              " 1,\n",
              " 1,\n",
              " 1,\n",
              " 1,\n",
              " 1,\n",
              " 1,\n",
              " 1,\n",
              " 1,\n",
              " 1,\n",
              " 1,\n",
              " 1,\n",
              " 1,\n",
              " 1,\n",
              " 1,\n",
              " 1,\n",
              " 1,\n",
              " 1,\n",
              " 1,\n",
              " 1,\n",
              " 1,\n",
              " 1,\n",
              " 1,\n",
              " 1,\n",
              " 1,\n",
              " 1,\n",
              " 1,\n",
              " 1,\n",
              " 1,\n",
              " 1,\n",
              " 1,\n",
              " 1,\n",
              " 1,\n",
              " 1,\n",
              " 1,\n",
              " 1,\n",
              " 1,\n",
              " 1,\n",
              " 1,\n",
              " 1,\n",
              " 1,\n",
              " 1,\n",
              " 1,\n",
              " 1,\n",
              " 1,\n",
              " 1,\n",
              " 1,\n",
              " 1,\n",
              " 1,\n",
              " 1,\n",
              " 1,\n",
              " 1,\n",
              " 1,\n",
              " 1,\n",
              " 1,\n",
              " 1,\n",
              " 1,\n",
              " 1,\n",
              " 1,\n",
              " 1,\n",
              " 1,\n",
              " 1,\n",
              " 1,\n",
              " 1,\n",
              " 1,\n",
              " 1,\n",
              " 1,\n",
              " 1,\n",
              " 1,\n",
              " 1,\n",
              " 1,\n",
              " 1,\n",
              " 1,\n",
              " 1,\n",
              " 1,\n",
              " 1,\n",
              " 1,\n",
              " 1,\n",
              " 1,\n",
              " 1,\n",
              " 1,\n",
              " 1,\n",
              " 1,\n",
              " 1,\n",
              " 1,\n",
              " 1,\n",
              " 1,\n",
              " 1,\n",
              " 1,\n",
              " 1,\n",
              " 1,\n",
              " 1,\n",
              " 1,\n",
              " 1,\n",
              " 1,\n",
              " 1,\n",
              " 1,\n",
              " 1,\n",
              " 1,\n",
              " 1,\n",
              " 1,\n",
              " 1,\n",
              " 1,\n",
              " 1,\n",
              " 1,\n",
              " 1,\n",
              " 1,\n",
              " 1,\n",
              " 1,\n",
              " 1,\n",
              " 1,\n",
              " 1,\n",
              " 1,\n",
              " 1,\n",
              " 1,\n",
              " 1,\n",
              " 1,\n",
              " 1,\n",
              " 1,\n",
              " 1,\n",
              " 1,\n",
              " 1,\n",
              " 1,\n",
              " 1,\n",
              " 1,\n",
              " 1,\n",
              " 1,\n",
              " 1,\n",
              " 1,\n",
              " 1,\n",
              " 1,\n",
              " 1,\n",
              " 1,\n",
              " 1,\n",
              " 1,\n",
              " 1,\n",
              " 1,\n",
              " 1,\n",
              " 1,\n",
              " 1,\n",
              " 1,\n",
              " 1,\n",
              " 1,\n",
              " 1,\n",
              " 1,\n",
              " 1,\n",
              " 1,\n",
              " 1,\n",
              " 1,\n",
              " 1,\n",
              " 1,\n",
              " 1,\n",
              " 1,\n",
              " 1,\n",
              " 1,\n",
              " 1,\n",
              " 1,\n",
              " 1,\n",
              " 1,\n",
              " 1,\n",
              " 1,\n",
              " 1,\n",
              " 1,\n",
              " 1,\n",
              " 1,\n",
              " 1,\n",
              " 1,\n",
              " 1,\n",
              " 1,\n",
              " 1,\n",
              " 1,\n",
              " 1,\n",
              " 1,\n",
              " 1,\n",
              " 1,\n",
              " 1,\n",
              " 1,\n",
              " 1,\n",
              " 1,\n",
              " 1,\n",
              " 1,\n",
              " 1,\n",
              " 1,\n",
              " 1,\n",
              " 1,\n",
              " 1,\n",
              " 1,\n",
              " 1,\n",
              " 1,\n",
              " 1,\n",
              " 1,\n",
              " 1,\n",
              " 1,\n",
              " 1,\n",
              " 1,\n",
              " 1,\n",
              " 1,\n",
              " 1,\n",
              " 1,\n",
              " 1,\n",
              " 1,\n",
              " 1,\n",
              " 1,\n",
              " 1,\n",
              " 1,\n",
              " 1,\n",
              " 1,\n",
              " 1,\n",
              " 1,\n",
              " 1,\n",
              " 1,\n",
              " 1,\n",
              " 1,\n",
              " 1,\n",
              " 1,\n",
              " 1,\n",
              " 1,\n",
              " 1,\n",
              " 1,\n",
              " 1,\n",
              " 1,\n",
              " 1,\n",
              " 1,\n",
              " 1,\n",
              " 1,\n",
              " 1,\n",
              " 1,\n",
              " 1,\n",
              " 1,\n",
              " 1,\n",
              " 1,\n",
              " 1,\n",
              " 1,\n",
              " 1,\n",
              " 1,\n",
              " 1,\n",
              " 1,\n",
              " 1,\n",
              " 1,\n",
              " 1,\n",
              " 1,\n",
              " 1,\n",
              " 1,\n",
              " 1,\n",
              " 1,\n",
              " 1,\n",
              " 1,\n",
              " 1,\n",
              " 1,\n",
              " 1,\n",
              " 1,\n",
              " 1,\n",
              " 1,\n",
              " 1,\n",
              " 1,\n",
              " 1,\n",
              " 1,\n",
              " 1,\n",
              " 1,\n",
              " 1,\n",
              " 1,\n",
              " 1,\n",
              " 1,\n",
              " 1,\n",
              " 1,\n",
              " 1,\n",
              " 1,\n",
              " 1,\n",
              " 1,\n",
              " 1,\n",
              " 1,\n",
              " 1,\n",
              " 1,\n",
              " 1,\n",
              " 1,\n",
              " 1,\n",
              " 1,\n",
              " 1,\n",
              " 1,\n",
              " 1,\n",
              " 1,\n",
              " 1,\n",
              " 1,\n",
              " 1,\n",
              " 1,\n",
              " 1,\n",
              " 1,\n",
              " 1,\n",
              " 1,\n",
              " 1,\n",
              " 1,\n",
              " 1,\n",
              " 1,\n",
              " 1,\n",
              " 1,\n",
              " 1,\n",
              " 1,\n",
              " 1,\n",
              " 1,\n",
              " 1,\n",
              " 1,\n",
              " 1,\n",
              " 1,\n",
              " 1,\n",
              " 1,\n",
              " 1,\n",
              " 1,\n",
              " 1,\n",
              " 1,\n",
              " 1,\n",
              " 1,\n",
              " 1,\n",
              " 1,\n",
              " 1,\n",
              " 1,\n",
              " 1,\n",
              " 1,\n",
              " 1,\n",
              " 1,\n",
              " 1,\n",
              " 1,\n",
              " 1,\n",
              " 1,\n",
              " 1,\n",
              " 1,\n",
              " 1,\n",
              " 1,\n",
              " 1,\n",
              " 1,\n",
              " 1,\n",
              " 1,\n",
              " 1,\n",
              " 1,\n",
              " 1,\n",
              " 1,\n",
              " 1,\n",
              " 1,\n",
              " 1,\n",
              " 1,\n",
              " 1,\n",
              " 1,\n",
              " 1,\n",
              " 1,\n",
              " 1,\n",
              " 1,\n",
              " 1,\n",
              " 1,\n",
              " 1,\n",
              " 1,\n",
              " 1,\n",
              " ...]"
            ]
          },
          "metadata": {
            "tags": []
          },
          "execution_count": 331
        }
      ]
    },
    {
      "metadata": {
        "id": "nZ9c-Cq9j3Sl",
        "colab_type": "code",
        "colab": {
          "autoexec": {
            "startup": false,
            "wait_interval": 0
          }
        }
      },
      "cell_type": "code",
      "source": [
        ""
      ],
      "execution_count": 0,
      "outputs": []
    }
  ]
}